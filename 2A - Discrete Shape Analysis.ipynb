{
 "cells": [
  {
   "cell_type": "markdown",
   "id": "d35c3df7",
   "metadata": {},
   "source": [
    "## Part 2A: Discrete shape analysis"
   ]
  },
  {
   "cell_type": "markdown",
   "id": "27cdcf3b",
   "metadata": {},
   "source": [
    "In this notebook, we will learn the basics of shape analysis on landmarked data."
   ]
  },
  {
   "cell_type": "code",
   "execution_count": 1,
   "id": "8669f5ee",
   "metadata": {},
   "outputs": [],
   "source": [
    "import os\n",
    "import numpy as np\n",
    "import matplotlib.pyplot as plt"
   ]
  },
  {
   "cell_type": "markdown",
   "id": "ba34c4a0",
   "metadata": {},
   "source": [
    "### 0. Data loading"
   ]
  },
  {
   "cell_type": "markdown",
   "id": "dc55ccc8",
   "metadata": {},
   "source": [
    "**0.1** Run the lines below to load the object models dataset."
   ]
  },
  {
   "cell_type": "code",
   "execution_count": 2,
   "id": "e0ffe14f",
   "metadata": {},
   "outputs": [],
   "source": [
    "# BBBC010\n",
    "directory='data/BBBC010/masks'\n",
    "point_models=np.load(os.path.join(directory,'point_models.npy'))"
   ]
  },
  {
   "cell_type": "code",
   "execution_count": 3,
   "id": "deecd98a",
   "metadata": {},
   "outputs": [],
   "source": [
    "# The number of points in our object model is an important parameter\n",
    "N=point_models.shape[1]"
   ]
  },
  {
   "cell_type": "markdown",
   "id": "1c9d2cdb",
   "metadata": {},
   "source": [
    "**0.2** Visualize a set of a few randomly selected models from the collection."
   ]
  },
  {
   "cell_type": "code",
   "execution_count": 4,
   "id": "e91ff6f6",
   "metadata": {},
   "outputs": [
    {
     "data": {
      "image/png": "[encoded data removed]",
      "text/plain": [
       "<Figure size 720x72 with 10 Axes>"
      ]
     },
     "metadata": {
      "needs_background": "light"
     },
     "output_type": "display_data"
    }
   ],
   "source": [
    "# Your turn!\n",
    "number=10\n",
    "inds=np.random.choice(len(point_models)-1, size=number, replace=False)\n",
    "\n",
    "fig, ax = plt.subplots(1,number, figsize=(number,1))\n",
    "for i in range(number):\n",
    "    point_model=np.array(point_models[inds[i]])\n",
    "    t=np.arange(N)\n",
    "    ax[i].scatter(point_model[:,0],point_model[:,1],s=.5,c=t,cmap='viridis')\n",
    "    ax[i].set_title(str(inds[i]))\n",
    "    ax[i].axis('off')"
   ]
  },
  {
   "cell_type": "markdown",
   "id": "8ed49c8c",
   "metadata": {},
   "source": [
    "### 1. Procrustes alignment"
   ]
  },
  {
   "cell_type": "markdown",
   "id": "b314d500",
   "metadata": {},
   "source": [
    "**1.1** Center and scale the data such that they are all located around (0,0) and are of unit norm."
   ]
  },
  {
   "cell_type": "code",
   "execution_count": 5,
   "id": "d759a609",
   "metadata": {},
   "outputs": [],
   "source": [
    "# Your turn!\n",
    "preshapes=np.zeros(point_models.shape)\n",
    "\n",
    "for i in range(len(point_models)):\n",
    "    point_model=point_models[i]\n",
    "    \n",
    "    centroid=np.mean(point_model,0)\n",
    "    centered=point_model-centroid\n",
    "    \n",
    "    scaled=centered/np.linalg.norm(centered)\n",
    "    preshapes[i]=scaled"
   ]
  },
  {
   "cell_type": "markdown",
   "id": "cc4b1c29",
   "metadata": {},
   "source": [
    "**1.2** Write a function that aligns one object model onto another reference one, assuming that the models are in correspondence†.\n",
    "\n",
    "This problem can be formulated as finding the optimal rotation angle such that the distance between the two point sets is minimal.\n",
    "\n",
    "*Hint: use ``scipy.optimize`` to carry out the optimization*\n",
    "\n",
    "† This assumption is not necessarily biologically correct in the present case. Do you understand why? What is missing from the data preparation pipeline for it to hold?"
   ]
  },
  {
   "cell_type": "code",
   "execution_count": 11,
   "id": "ce6f4b17",
   "metadata": {},
   "outputs": [],
   "source": [
    "import scipy.optimize"
   ]
  },
  {
   "cell_type": "code",
   "execution_count": null,
   "id": "301304f6",
   "metadata": {},
   "outputs": [],
   "source": [
    "# Your turn!\n",
    "# Pick two random models and try to align them\n",
    "random=np.random.choice(len(point_models)-1, size=2, replace=False)\n",
    "plt.scatter(preshapes[random[0]][:,0],preshapes[random[0]][:,1])\n",
    "plt.scatter(preshapes[random[1]][:,0],preshapes[random[1]][:,1])\n",
    "plt.axis('off')\n",
    "plt.show()"
   ]
  },
  {
   "cell_type": "code",
   "execution_count": 6,
   "id": "4ecd75bb",
   "metadata": {},
   "outputs": [],
   "source": [
    "# Define the objective function\n",
    "def objectiveFunctionAlignment(theta, m1, m2):\n",
    "    R=np.array([[np.cos(theta[0]),-np.sin(theta[0])],[np.sin(theta[0]),np.cos(theta[0])]])\n",
    "    rotated_m2=R.dot(m2.T).T\n",
    "    error=np.linalg.norm(m1-rotated_m2)\n",
    "    rmse=np.sqrt(np.mean(error**2))\n",
    "    return rmse"
   ]
  },
  {
   "cell_type": "code",
   "execution_count": null,
   "id": "7e7c5ea4",
   "metadata": {},
   "outputs": [],
   "source": [
    "# Optimize\n",
    "res=scipy.optimize.minimize(objectiveFunctionAlignment,0,args=(preshapes[random[0]],preshapes[random[1]]),method=\"L-BFGS-B\")\n",
    "theta0=res.x[0]"
   ]
  },
  {
   "cell_type": "code",
   "execution_count": null,
   "id": "88b54167",
   "metadata": {},
   "outputs": [],
   "source": [
    "# Visualize the alignment\n",
    "plt.scatter(preshapes[random[0]][:,0],preshapes[random[0]][:,1])\n",
    "\n",
    "R=np.array([[np.cos(theta0),-np.sin(theta0)],[np.sin(theta0),np.cos(theta0)]])\n",
    "aligned=R.dot(preshapes[random[1]].T).T\n",
    "\n",
    "plt.scatter(aligned[:,0],aligned[:,1])\n",
    "plt.axis('off')\n",
    "plt.show()"
   ]
  },
  {
   "cell_type": "markdown",
   "id": "ba4150db",
   "metadata": {},
   "source": [
    "### 2. Kendall shape space"
   ]
  },
  {
   "cell_type": "markdown",
   "id": "9807ad97",
   "metadata": {},
   "source": [
    "**2.1** Each input shape can be seen as a vector of complex numbers and associated with an appropriate Hermitian inner product. The lines below transforms your aligned shape dataset into complex vectors. Convince yourself that the \"vector of complex numbers\" representation is equivalent to the \"vector of points\" one."
   ]
  },
  {
   "cell_type": "code",
   "execution_count": 7,
   "id": "9530bc3c",
   "metadata": {},
   "outputs": [],
   "source": [
    "complex_preshapes=preshapes[:,:,0] + 1j*preshapes[:,:,1]"
   ]
  },
  {
   "cell_type": "markdown",
   "id": "a493cdb8",
   "metadata": {},
   "source": [
    "**2.2** The function below computes the Fréchet mean of a dataset relying on complex number representations. Use it to extract the Fréchet mean of your data and visualize it."
   ]
  },
  {
   "cell_type": "code",
   "execution_count": 8,
   "id": "bf73ba6f",
   "metadata": {},
   "outputs": [],
   "source": [
    "def meanFrechet(input_complex_preshapes): # preshapes\n",
    "    '''Input: dataset of complex preshapes.\n",
    "    Output: Fréchet mean (w.r.t. the Procrustes distance).'''\n",
    "    SQ = input_complex_preshapes.T @ input_complex_preshapes.conj()\n",
    "    D,V = np.linalg.eig(SQ)\n",
    "    ds = np.real(D)\n",
    "    ind_max = np.argmax(ds)\n",
    "    ds_max = np.max(ds)\n",
    "    m = V[:,ind_max]\n",
    "    \n",
    "    centered_m=m-np.mean(m)\n",
    "    m_norm=np.sqrt(centered_m.conj().T @ centered_m).real\n",
    "    return m/m_norm"
   ]
  },
  {
   "cell_type": "code",
   "execution_count": 9,
   "id": "7c0867aa",
   "metadata": {},
   "outputs": [
    {
     "data": {
      "image/png": "[encoded data removed]",
      "text/plain": [
       "<Figure size 432x288 with 1 Axes>"
      ]
     },
     "metadata": {
      "needs_background": "light"
     },
     "output_type": "display_data"
    }
   ],
   "source": [
    "# Your turn!\n",
    "mean_shape_Frechet=meanFrechet(complex_preshapes)\n",
    "plt.scatter(mean_shape_Frechet.real,mean_shape_Frechet.imag)\n",
    "plt.show()"
   ]
  },
  {
   "cell_type": "markdown",
   "id": "c58462d8",
   "metadata": {},
   "source": [
    "**2.3** Using the pairwise alignment routine you wrote in 1.2, align the whole dataset onto the Fréchet mean."
   ]
  },
  {
   "cell_type": "code",
   "execution_count": 12,
   "id": "a6896bcd",
   "metadata": {},
   "outputs": [],
   "source": [
    "# Your turn!\n",
    "aligned_shapes=np.zeros(preshapes.shape)\n",
    "\n",
    "reference=np.stack((mean_shape_Frechet.real,mean_shape_Frechet.imag),axis=1)\n",
    "for i in range(len(preshapes)):\n",
    "    res=scipy.optimize.minimize(objectiveFunctionAlignment,0,args=(reference,preshapes[i]),method=\"L-BFGS-B\")\n",
    "    theta0=res.x[0]\n",
    "    R=np.array([[np.cos(theta0),-np.sin(theta0)],[np.sin(theta0),np.cos(theta0)]])\n",
    "    aligned_shapes[i]=R.dot(preshapes[i].T).T"
   ]
  },
  {
   "cell_type": "markdown",
   "id": "abd372bb",
   "metadata": {},
   "source": [
    "**2.4** Now that all shapes are aligned, compute the (point-by-point) mean shape of the dataset and visualize it. Does it differ from what you got in 2.2?"
   ]
  },
  {
   "cell_type": "code",
   "execution_count": 13,
   "id": "fbb42c8d",
   "metadata": {},
   "outputs": [
    {
     "data": {
      "image/png": "[encoded data removed]",
      "text/plain": [
       "<Figure size 432x288 with 1 Axes>"
      ]
     },
     "metadata": {
      "needs_background": "light"
     },
     "output_type": "display_data"
    }
   ],
   "source": [
    "# Your turn!\n",
    "mean_shape=np.mean(aligned_shapes,0)\n",
    "plt.scatter(mean_shape[:,0],mean_shape[:,1])\n",
    "plt.show()"
   ]
  },
  {
   "cell_type": "markdown",
   "id": "35971655",
   "metadata": {},
   "source": [
    "**2.5** Repeat 2.3 and 2.4 by aligning the dataset onto an arbitrarily chosen shape from the collection (e.g., the first one). Does the mean shape differ from what you got in 2.4? "
   ]
  },
  {
   "cell_type": "code",
   "execution_count": null,
   "id": "c687b3a4",
   "metadata": {},
   "outputs": [],
   "source": [
    "# Your turn!\n",
    "# Align the whole dataset onto the first preshape\n",
    "aligned_shapes_2=np.zeros(preshapes.shape)\n",
    "\n",
    "reference=preshapes[0]\n",
    "for i in range(len(preshapes)):\n",
    "    res=scipy.optimize.minimize(objectiveFunctionAlignment,0,args=(reference,preshapes[i]),method=\"L-BFGS-B\")\n",
    "    theta0=res.x[0]\n",
    "    R=np.array([[np.cos(theta0),-np.sin(theta0)],[np.sin(theta0),np.cos(theta0)]])\n",
    "    aligned_shapes_2[i]=R.dot(preshapes[i].T).T"
   ]
  },
  {
   "cell_type": "code",
   "execution_count": null,
   "id": "4574d1fc",
   "metadata": {},
   "outputs": [],
   "source": [
    "# Your turn!\n",
    "mean_shape_2=np.mean(aligned_shapes_2,0)\n",
    "plt.scatter(mean_shape_2[:,0],mean_shape_2[:,1])\n",
    "plt.show()"
   ]
  },
  {
   "cell_type": "markdown",
   "id": "404b3eeb",
   "metadata": {},
   "source": [
    "**2.3** Pick one random shapes in the dataset. Relying on the function ``geodesicPath`` below, compute the geodesic path between this shape and the Fréchet mean, and visualize elements along the path."
   ]
  },
  {
   "cell_type": "code",
   "execution_count": 14,
   "id": "8d6dae38",
   "metadata": {},
   "outputs": [],
   "source": [
    "def hermitianProduct(z,w):\n",
    "    '''Hermitian product of z and w in the space of complex landmark configurations.'''\n",
    "    return z.conj().T @ w\n",
    "\n",
    "def geodesicDistance(z,w): \n",
    "    '''Geodesic distance between [z] and [w].'''\n",
    "    aux=np.abs(hermitianProduct(z,w))\n",
    "    if aux>1.0: \n",
    "        aux=1.0\n",
    "    return np.arccos(aux)\n",
    "\n",
    "def geodesicPath(z,w,numSteps): \n",
    "    '''Returns elements regularly spaced along the geodesic curve joining z to w (preshapes).'''\n",
    "    ro = geodesicDistance(z,w)\n",
    "    steps = np.arange(numSteps+1)/numSteps\n",
    "\n",
    "    ta = np.angle(hermitianProduct(z,w))\n",
    "    path = 1/np.sin(ro)*(np.sin((1-steps[:,None])*ro)*np.exp(1j*ta)*z + np.sin(steps[:,None]*ro)*w)\n",
    "    return path"
   ]
  },
  {
   "cell_type": "code",
   "execution_count": 15,
   "id": "7ac81cde",
   "metadata": {},
   "outputs": [
    {
     "data": {
      "image/png": "[encoded data removed]",
      "text/plain": [
       "<Figure size 432x288 with 1 Axes>"
      ]
     },
     "metadata": {
      "needs_background": "light"
     },
     "output_type": "display_data"
    }
   ],
   "source": [
    "# Your turn!\n",
    "# Pick one random complex preshape and visualize it with the Fréchet mean\n",
    "random=np.random.choice(len(complex_preshapes)-1, size=1, replace=False)[0]\n",
    "plt.scatter(mean_shape_Frechet.real,mean_shape_Frechet.imag)\n",
    "plt.scatter(complex_preshapes[random].real,complex_preshapes[random].imag)\n",
    "plt.axis('off')\n",
    "plt.show()"
   ]
  },
  {
   "cell_type": "code",
   "execution_count": 16,
   "id": "23e313d3",
   "metadata": {},
   "outputs": [
    {
     "data": {
      "image/png": "[encoded data removed]",
      "text/plain": [
       "<Figure size 720x72 with 10 Axes>"
      ]
     },
     "metadata": {
      "needs_background": "light"
     },
     "output_type": "display_data"
    }
   ],
   "source": [
    "# Compute N steps along the geodesic path\n",
    "steps=10\n",
    "path=geodesicPath(mean_shape_Frechet,complex_preshapes[random],steps)\n",
    "\n",
    "fig, ax = plt.subplots(1,steps, figsize=(steps,1))\n",
    "for i in range(steps):\n",
    "    ax[i].scatter(path[i].real,path[i].imag, s=.5)\n",
    "    ax[i].axis('off')"
   ]
  },
  {
   "cell_type": "markdown",
   "id": "ca215afd",
   "metadata": {},
   "source": [
    "**2.4** Compare the length of the above geodesics with the Procrustes distance (the distance you used for the alignment in 1.2). What do you observe? Can you relate that to what you know about the nature of the shape space?"
   ]
  },
  {
   "cell_type": "code",
   "execution_count": 17,
   "id": "42b64b62",
   "metadata": {},
   "outputs": [
    {
     "name": "stdout",
     "output_type": "stream",
     "text": [
      "Geodesic distance: 0.061121338218796555\n",
      "Procrustes distance: 0.061111824571635866\n"
     ]
    }
   ],
   "source": [
    "# Your turn!\n",
    "geo_distance=geodesicDistance(complex_preshapes[random],mean_shape_Frechet)\n",
    "print(\"Geodesic distance: \"+str(geo_distance))\n",
    "\n",
    "reference=np.stack((mean_shape_Frechet.real,mean_shape_Frechet.imag),axis=1)\n",
    "procrustes_dist=np.linalg.norm(aligned_shapes[random]-reference)\n",
    "print(\"Procrustes distance: \"+str(procrustes_dist))"
   ]
  },
  {
   "cell_type": "markdown",
   "id": "98a558b1",
   "metadata": {},
   "source": [
    "### 3. Shape space PCA"
   ]
  },
  {
   "cell_type": "markdown",
   "id": "e6d96c0d",
   "metadata": {},
   "source": [
    "A classical trick to perform local linear operations on a Riemannian manifold is to rely on local tangent spaces. The way into and out of the tangent space are the logarithm and exponential maps, respectively. Their expression for the shape space of point models we are currently working with are provided below."
   ]
  },
  {
   "cell_type": "code",
   "execution_count": 18,
   "id": "96de15ba",
   "metadata": {},
   "outputs": [],
   "source": [
    "def logarithmMap(z,w): \n",
    "    '''Computes a preshape pertaining to the equivalence class log_[z]([w]),\n",
    "    where log is relative the shape space Sigma'''\n",
    "    ta = np.angle(hermitianProduct(z,w))\n",
    "    w_r = np.exp(-1j*ta)*w\n",
    "    ro = geodesicDistance(z,w_r)\n",
    "    return ro/np.sin(ro)*(w_r - np.cos(ro)*z)\n",
    "\n",
    "def exponentialMap(z,v): \n",
    "    '''Computes the exponential of the tangent vector v in C^n at a preshape z'''\n",
    "    t = np.sqrt(v.conj().T @ v).real\n",
    "    if t < 1e-16 :\n",
    "        return z\n",
    "    return np.cos(t)*z + v*np.sin(t)/t"
   ]
  },
  {
   "cell_type": "markdown",
   "id": "b13deb34",
   "metadata": {},
   "source": [
    "**3.1** The lines below perform PCA in the tangent plane around the Fréchet mean using the logarithmic and exponential maps appropriately and displays the explained variance. What does it tell you about the data? "
   ]
  },
  {
   "cell_type": "code",
   "execution_count": 19,
   "id": "d0abaa7d",
   "metadata": {},
   "outputs": [
    {
     "data": {
      "image/png": "[encoded data removed]",
      "text/plain": [
       "<Figure size 432x288 with 1 Axes>"
      ]
     },
     "metadata": {
      "needs_background": "light"
     },
     "output_type": "display_data"
    }
   ],
   "source": [
    "from sklearn.decomposition import PCA\n",
    "\n",
    "tangent_vectors=np.zeros((complex_preshapes.shape[0],2*complex_preshapes.shape[1]))\n",
    "for i in range(len(complex_preshapes)):\n",
    "    tangent_vector=logarithmMap(mean_shape_Frechet, complex_preshapes[i])\n",
    "    tangent_vectors[i,:N]=tangent_vector.real\n",
    "    tangent_vectors[i,N:]=tangent_vector.imag\n",
    "\n",
    "pca = PCA()\n",
    "transformed_vectors = pca.fit_transform(tangent_vectors)\n",
    "\n",
    "plt.plot(np.linspace(1,pca.n_components_,pca.n_components_),pca.explained_variance_)\n",
    "plt.xlabel(\"Principal component\")\n",
    "plt.ylabel(\"Variance explained\")\n",
    "plt.show()"
   ]
  },
  {
   "cell_type": "markdown",
   "id": "57ed4dc7",
   "metadata": {},
   "source": [
    "**3.2** The lines below retreive the K modes of shape variation and visualize them around the mean. What does it tell you about the shapes present in the data?"
   ]
  },
  {
   "cell_type": "code",
   "execution_count": 55,
   "id": "f0233d2f",
   "metadata": {},
   "outputs": [
    {
     "data": {
      "image/png": "[encoded data removed]",
      "text/plain": [
       "<Figure size 2160x360 with 6 Axes>"
      ]
     },
     "metadata": {
      "needs_background": "light"
     },
     "output_type": "display_data"
    }
   ],
   "source": [
    "l=np.sqrt(pca.explained_variance_)\n",
    "K=6\n",
    "\n",
    "modes_shape=np.zeros((K,2,N),dtype=np.complex)\n",
    "for i in range(K) :\n",
    "    vector=np.zeros(pca.n_components_)\n",
    "    vector[i]=1\n",
    "    mode=l[i]*pca.inverse_transform(vector)\n",
    "    complex_mode=mode[:N]+1j*mode[N:]\n",
    "    modes_shape[i][0]=exponentialMap(mean_shape_Frechet, complex_mode)\n",
    "    modes_shape[i][1]=exponentialMap(mean_shape_Frechet, -complex_mode)\n",
    "    \n",
    "fig, ax = plt.subplots(1, K, figsize=(5*K,5))\n",
    "for i in range(K):\n",
    "    ax[i].scatter(mean_shape_Frechet.real,mean_shape_Frechet.imag)\n",
    "    ax[i].scatter(modes_shape[i][0].real, modes_shape[i][0].imag)\n",
    "    ax[i].scatter(modes_shape[i][1].real, modes_shape[i][1].imag)\n",
    "    ax[i].axis(\"off\")\n",
    "    \n",
    "    percent_variance=np.round(100*l[i]**2/np.sum(pca.explained_variance_))\n",
    "    ax[i].set_title(\"Mode \"+str(i+1)+\", \"+str(percent_variance)+\"% of variance.\")"
   ]
  },
  {
   "cell_type": "markdown",
   "id": "331b0980",
   "metadata": {},
   "source": [
    "**3.3** The lines below plot the PCA-transformed data around the Fréchet mean. What does it tell you about the dataset?"
   ]
  },
  {
   "cell_type": "code",
   "execution_count": 21,
   "id": "3ef34440",
   "metadata": {},
   "outputs": [
    {
     "data": {
      "image/png": "[encoded data removed]",
      "text/plain": [
       "<Figure size 432x288 with 1 Axes>"
      ]
     },
     "metadata": {
      "needs_background": "light"
     },
     "output_type": "display_data"
    }
   ],
   "source": [
    "plt.scatter(transformed_vectors[:,0], transformed_vectors[:,1], c=\"g\")\n",
    "plt.scatter([0],[0], c=\"r\")\n",
    "plt.scatter([l[0],-l[0]], [0.,0.],c=\"blue\")\n",
    "plt.scatter([0.,0.],[l[1],-l[1]],c=\"cyan\")\n",
    "plt.axis(\"equal\")\n",
    "plt.title(\"PCA plot around the Fréchet mean\")\n",
    "plt.show()"
   ]
  },
  {
   "cell_type": "markdown",
   "id": "cd239157",
   "metadata": {},
   "source": [
    "**[BONUS] 3.4** Perform PCA as above but without using the logarithm and exponential maps. What do you see? Can you relate that to what you observed in 2.4?"
   ]
  },
  {
   "cell_type": "code",
   "execution_count": null,
   "id": "8f208a35",
   "metadata": {},
   "outputs": [],
   "source": [
    "# Your turn!\n",
    "flattened_aligned_shapes=np.zeros((aligned_shapes.shape[0],2*aligned_shapes.shape[1]))\n",
    "for i in range(len(aligned_shapes)):\n",
    "    flattened_aligned_shapes[i,:N]=aligned_shapes[i][:,0]\n",
    "    flattened_aligned_shapes[i,N:]=aligned_shapes[i][:,0]\n",
    "    \n",
    "terribly_wrong_pca = PCA()\n",
    "terribly_wrong_transformed_data = terribly_wrong_pca.fit_transform(flattened_aligned_shapes)\n",
    "\n",
    "plt.plot(terribly_wrong_pca.explained_variance_)\n",
    "plt.xlabel(\"Number of principal components\")\n",
    "plt.ylabel(\"Variance explained\")\n",
    "plt.show()"
   ]
  },
  {
   "cell_type": "code",
   "execution_count": null,
   "id": "8fe906c5",
   "metadata": {},
   "outputs": [],
   "source": [
    "terribly_wrong_l=np.sqrt(terribly_wrong_pca.explained_variance_)\n",
    "K=6\n",
    "\n",
    "terribly_wrong_modes_shape=np.zeros((K,N,2))\n",
    "for i in range(K) :\n",
    "    vector=np.zeros(terribly_wrong_pca.n_components_)\n",
    "    vector[i]=1\n",
    "    terribly_wrong_mode=0.25*terribly_wrong_l[i]*terribly_wrong_pca.inverse_transform(vector)\n",
    "    terribly_wrong_modes_shape[i][:,0]=terribly_wrong_mode[:N]\n",
    "    terribly_wrong_modes_shape[i][:,1]=terribly_wrong_mode[N:]\n",
    "    \n",
    "fig, ax = plt.subplots(1, K, figsize=(5*K,5))\n",
    "for i in range(K):\n",
    "    ax[i].scatter(mean_shape_Frechet.real,mean_shape_Frechet.imag)\n",
    "    ax[i].scatter(terribly_wrong_modes_shape[i][:,0], terribly_wrong_modes_shape[i][:,1])\n",
    "    ax[i].scatter(-terribly_wrong_modes_shape[i][:,0], -terribly_wrong_modes_shape[i][:,1])\n",
    "    ax[i].axis(\"off\")\n",
    "    \n",
    "    percent_variance=np.round(100*terribly_wrong_l[i]**2/np.sum(terribly_wrong_pca.explained_variance_))\n",
    "    ax[i].set_title(\"Mode \"+str(i+1)+\", \"+str(percent_variance)+\"% of variance.\")"
   ]
  },
  {
   "cell_type": "markdown",
   "id": "f9c026e1",
   "metadata": {},
   "source": [
    "### 4. Statistical shape modelling"
   ]
  },
  {
   "cell_type": "markdown",
   "id": "5f1f4fd9",
   "metadata": {},
   "source": [
    "**4.1** The following lines generate synthetic shapes relying on a simple statistical model (multivariate Gaussian) built from the covariance matrix of the dataset. Do you understand how the model is constructed? How good do you think this model is and why?"
   ]
  },
  {
   "cell_type": "code",
   "execution_count": 102,
   "id": "46ff2e7a",
   "metadata": {},
   "outputs": [
    {
     "data": {
      "image/png": "[encoded data removed]",
      "text/plain": [
       "<Figure size 720x72 with 10 Axes>"
      ]
     },
     "metadata": {
      "needs_background": "light"
     },
     "output_type": "display_data"
    }
   ],
   "source": [
    "import scipy.stats\n",
    "\n",
    "num_synthetic_data=10\n",
    "count=2\n",
    "\n",
    "synthetic_data=np.zeros((num_synthetic_data,N),dtype=np.complex)\n",
    "for i in range(num_synthetic_data):\n",
    "    rand=[]\n",
    "    for k in range(pca.n_components_):\n",
    "        var=pca.explained_variance_[k]*(len(tangent_vectors)-1)\n",
    "        if var<1e-6:\n",
    "            sigma=0.0\n",
    "        else:\n",
    "            sigma=np.sqrt(var)\n",
    "        rand.append(scipy.stats.norm.rvs(loc=0, scale=sigma, size=1))\n",
    "    rand=np.array(rand)\n",
    "\n",
    "    v=np.zeros((pca.n_components_))\n",
    "    for k in range(count):\n",
    "        zz=rand.T @ pca.components_.T[:,k]\n",
    "        v+=(zz*pca.components_.T[:,k])+pca.mean_\n",
    "    \n",
    "    complex_v=v[:N]+1j*v[N:]\n",
    "    synthetic_data[i]=exponentialMap(mean_shape_Frechet, complex_v) \n",
    "    \n",
    "fig, ax = plt.subplots(1, num_synthetic_data, figsize=(num_synthetic_data,1))\n",
    "for i in range(num_synthetic_data):\n",
    "    ax[i].scatter(synthetic_data[i].real, synthetic_data[i].imag, s=5)\n",
    "    ax[i].axis(\"off\")"
   ]
  },
  {
   "cell_type": "markdown",
   "id": "911d3ac6",
   "metadata": {},
   "source": [
    "### 5. Dictionary learning"
   ]
  },
  {
   "cell_type": "code",
   "execution_count": null,
   "id": "096a1635",
   "metadata": {},
   "outputs": [],
   "source": []
  }
 ],
 "metadata": {
  "kernelspec": {
   "display_name": "Python 3",
   "language": "python",
   "name": "python3"
  },
  "language_info": {
   "codemirror_mode": {
    "name": "ipython",
    "version": 3
   },
   "file_extension": ".py",
   "mimetype": "text/x-python",
   "name": "python",
   "nbconvert_exporter": "python",
   "pygments_lexer": "ipython3",
   "version": "3.7.3"
  }
 },
 "nbformat": 4,
 "nbformat_minor": 5
}
