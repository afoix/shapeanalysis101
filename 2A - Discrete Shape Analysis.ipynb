{
 "cells": [
  {
   "cell_type": "markdown",
   "id": "d35c3df7",
   "metadata": {},
   "source": [
    "## Part 2A: Discrete shape analysis"
   ]
  },
  {
   "cell_type": "markdown",
   "id": "27cdcf3b",
   "metadata": {},
   "source": [
    "In this notebook, we will learn the basics of shape analysis on landmarked data."
   ]
  },
  {
   "cell_type": "code",
   "execution_count": 1,
   "id": "8669f5ee",
   "metadata": {},
   "outputs": [],
   "source": [
    "import os\n",
    "import numpy as np\n",
    "import matplotlib.pyplot as plt"
   ]
  },
  {
   "cell_type": "markdown",
   "id": "ba34c4a0",
   "metadata": {},
   "source": [
    "### 0. Data loading"
   ]
  },
  {
   "cell_type": "markdown",
   "id": "dc55ccc8",
   "metadata": {},
   "source": [
    "**0.1** Run the lines below to load the object models dataset."
   ]
  },
  {
   "cell_type": "code",
   "execution_count": 2,
   "id": "e0ffe14f",
   "metadata": {},
   "outputs": [],
   "source": [
    "# BBBC010\n",
    "directory = 'data/BBBC010/masks'\n",
    "point_models=np.load(os.path.join(directory,'point_models.npy'))"
   ]
  },
  {
   "cell_type": "markdown",
   "id": "1c9d2cdb",
   "metadata": {},
   "source": [
    "**0.2** Visualize a set of a few randomly selected models from the collection."
   ]
  },
  {
   "cell_type": "code",
   "execution_count": 3,
   "id": "e91ff6f6",
   "metadata": {},
   "outputs": [
    {
     "data": {
      "image/png": "[encoded data removed]",
      "text/plain": [
       "<Figure size 720x72 with 10 Axes>"
      ]
     },
     "metadata": {
      "needs_background": "light"
     },
     "output_type": "display_data"
    }
   ],
   "source": [
    "# Your turn!\n",
    "number=10\n",
    "inds=np.random.choice(len(point_models)-1, size=number, replace=False)\n",
    "\n",
    "fig, ax = plt.subplots(1,number, figsize=(number,1))\n",
    "for i in range(0,number):\n",
    "    point_model=np.array(point_models[inds[i]])\n",
    "    t=np.arange(len(point_model))\n",
    "    ax[i].scatter(point_model[:,0],point_model[:,1],s=.5,c=t,cmap='viridis')\n",
    "    ax[i].set_title(str(inds[i]))\n",
    "    ax[i].axis('off')"
   ]
  },
  {
   "cell_type": "markdown",
   "id": "8ed49c8c",
   "metadata": {},
   "source": [
    "### 1. Procrustes alignment"
   ]
  },
  {
   "cell_type": "markdown",
   "id": "b314d500",
   "metadata": {},
   "source": [
    "**1.1** Center and scale the data such that they are all located around (0,0) and are of unit norm."
   ]
  },
  {
   "cell_type": "code",
   "execution_count": 4,
   "id": "d759a609",
   "metadata": {},
   "outputs": [],
   "source": [
    "# Your turn!\n",
    "preshapes=np.zeros(point_models.shape)\n",
    "\n",
    "for i in range(len(point_models)):\n",
    "    point_model=point_models[i]\n",
    "    \n",
    "    centroid=np.mean(point_model,0)\n",
    "    centered=point_model-centroid\n",
    "    \n",
    "    scaled=centered/np.linalg.norm(centered)\n",
    "    preshapes[i]=scaled"
   ]
  },
  {
   "cell_type": "markdown",
   "id": "cc4b1c29",
   "metadata": {},
   "source": [
    "**1.2** Write a function that aligns one object model onto another reference one, assuming that the models are in correspondence†.\n",
    "\n",
    "This problem can be formulated as finding the optimal rotation angle such that the distance between the two point sets is minimal.\n",
    "\n",
    "*Hint: use ``scipy.optimize`` to carry out the optimization*\n",
    "\n",
    "† This assumption is not necessarily biologically correct in the present case. Do you understand why? What is missing from the data preparation pipeline for it to hold?"
   ]
  },
  {
   "cell_type": "code",
   "execution_count": 5,
   "id": "ce6f4b17",
   "metadata": {},
   "outputs": [],
   "source": [
    "import scipy.optimize"
   ]
  },
  {
   "cell_type": "code",
   "execution_count": 6,
   "id": "301304f6",
   "metadata": {},
   "outputs": [
    {
     "data": {
      "image/png": "[encoded data removed]",
      "text/plain": [
       "<Figure size 432x288 with 1 Axes>"
      ]
     },
     "metadata": {
      "needs_background": "light"
     },
     "output_type": "display_data"
    }
   ],
   "source": [
    "# Your turn!\n",
    "# Pick two random models and try to align them\n",
    "random=np.random.choice(len(point_models)-1, size=2, replace=False)\n",
    "plt.scatter(preshapes[random[0]][:,0],preshapes[random[0]][:,1])\n",
    "plt.scatter(preshapes[random[1]][:,0],preshapes[random[1]][:,1])\n",
    "plt.axis('off')\n",
    "plt.show()"
   ]
  },
  {
   "cell_type": "code",
   "execution_count": 7,
   "id": "4ecd75bb",
   "metadata": {},
   "outputs": [],
   "source": [
    "# Define the objective function\n",
    "def objectiveFunctionAlignment(theta, m1, m2):\n",
    "    R=np.array([[np.cos(theta[0]),-np.sin(theta[0])],[np.sin(theta[0]),np.cos(theta[0])]])\n",
    "    rotated_m2=R.dot(m2.T).T\n",
    "    error=np.linalg.norm(m1-rotated_m2)\n",
    "    rmse=np.sqrt(np.mean(error**2))\n",
    "    return rmse"
   ]
  },
  {
   "cell_type": "code",
   "execution_count": 8,
   "id": "7e7c5ea4",
   "metadata": {},
   "outputs": [],
   "source": [
    "# Optimize\n",
    "res=scipy.optimize.minimize(objectiveFunctionAlignment,0,args=(preshapes[random[0]],preshapes[random[1]]),method=\"L-BFGS-B\")\n",
    "theta0=res.x[0]"
   ]
  },
  {
   "cell_type": "code",
   "execution_count": 9,
   "id": "88b54167",
   "metadata": {},
   "outputs": [
    {
     "data": {
      "image/png": "[encoded data removed]",
      "text/plain": [
       "<Figure size 432x288 with 1 Axes>"
      ]
     },
     "metadata": {
      "needs_background": "light"
     },
     "output_type": "display_data"
    }
   ],
   "source": [
    "# Visualize the alignment\n",
    "plt.scatter(preshapes[random[0]][:,0],preshapes[random[0]][:,1])\n",
    "\n",
    "R=np.array([[np.cos(theta0),-np.sin(theta0)],[np.sin(theta0),np.cos(theta0)]])\n",
    "aligned=R.dot(preshapes[random[1]].T).T\n",
    "\n",
    "plt.scatter(aligned[:,0],aligned[:,1])\n",
    "plt.axis('off')\n",
    "plt.show()"
   ]
  },
  {
   "cell_type": "markdown",
   "id": "ba4150db",
   "metadata": {},
   "source": [
    "### 2. Kendall shape space"
   ]
  },
  {
   "cell_type": "markdown",
   "id": "9807ad97",
   "metadata": {},
   "source": [
    "**2.1** Each input shape can be seen as a vector of complex numbers and associated with an appropriate Hermitian inner product. The lines below transforms your aligned shape dataset into complex vectors. Convince yourself that the \"vector of complex numbers\" representation is equivalent to the \"vector of points\" one."
   ]
  },
  {
   "cell_type": "code",
   "execution_count": 10,
   "id": "9530bc3c",
   "metadata": {},
   "outputs": [],
   "source": [
    "complex_preshapes=preshapes[:,:,0] + 1j*preshapes[:,:,1]"
   ]
  },
  {
   "cell_type": "markdown",
   "id": "a493cdb8",
   "metadata": {},
   "source": [
    "**2.2** The function below computes the Fréchet mean of a dataset relying on complex number representations. Use it to extract the Fréchet mean of your data and visualize it."
   ]
  },
  {
   "cell_type": "code",
   "execution_count": 11,
   "id": "bf73ba6f",
   "metadata": {},
   "outputs": [],
   "source": [
    "def meanFrechet(input_complex_preshapes): # preshapes\n",
    "    '''Input: dataset of complex preshapes.\n",
    "    Output: Fréchet mean (w.r.t. the Procrustes distance).'''\n",
    "    N=input_complex_preshapes.shape[1]\n",
    "    SQ = input_complex_preshapes.T @ input_complex_preshapes.conj() @ np.eye(N)\n",
    "    D,V = np.linalg.eig(SQ)\n",
    "    ds = np.real(D)\n",
    "    ind_max = np.argmax(ds)\n",
    "    ds_max = np.max(ds)\n",
    "    m = V[:,ind_max]\n",
    "    \n",
    "    centered_m=m-np.mean(m[:N])\n",
    "    m_norm=np.sqrt(centered_m.conj().T @ np.eye(N) @ centered_m).real\n",
    "    return m/m_norm"
   ]
  },
  {
   "cell_type": "code",
   "execution_count": 36,
   "id": "8986a442",
   "metadata": {},
   "outputs": [
    {
     "data": {
      "image/png": "[encoded data removed]",
      "text/plain": [
       "<Figure size 432x288 with 1 Axes>"
      ]
     },
     "metadata": {
      "needs_background": "light"
     },
     "output_type": "display_data"
    }
   ],
   "source": [
    "# Your turn!\n",
    "mean_shape_Frechet=meanFrechet(complex_preshapes)\n",
    "plt.scatter(mean_shape_Frechet.real,mean_shape_Frechet.imag)\n",
    "plt.show()"
   ]
  },
  {
   "cell_type": "markdown",
   "id": "ff968f17",
   "metadata": {},
   "source": [
    "**2.3** Using the pairwise alignment routine you wrote in 1.2, align the whole dataset onto the Fréchet mean."
   ]
  },
  {
   "cell_type": "code",
   "execution_count": 13,
   "id": "d453f94e",
   "metadata": {},
   "outputs": [],
   "source": [
    "# Your turn!\n",
    "aligned_shapes=np.zeros(preshapes.shape)\n",
    "\n",
    "reference=np.stack((mean_shape_Frechet.real,mean_shape_Frechet.imag),axis=1)\n",
    "for i in range(0,len(preshapes)):\n",
    "    res=scipy.optimize.minimize(objectiveFunctionAlignment,0,args=(reference,preshapes[i]),method=\"L-BFGS-B\")\n",
    "    theta0=res.x[0]\n",
    "    R=np.array([[np.cos(theta0),-np.sin(theta0)],[np.sin(theta0),np.cos(theta0)]])\n",
    "    aligned_shapes[i]=R.dot(preshapes[i].T).T"
   ]
  },
  {
   "cell_type": "markdown",
   "id": "914368bc",
   "metadata": {},
   "source": [
    "**2.4** Now that all shapes are aligned, compute the (point-by-point) mean shape of the dataset and visualize it. Does it differ from what you got in 2.2?"
   ]
  },
  {
   "cell_type": "code",
   "execution_count": 14,
   "id": "a01b0c38",
   "metadata": {},
   "outputs": [
    {
     "data": {
      "image/png": "[encoded data removed]",
      "text/plain": [
       "<Figure size 432x288 with 1 Axes>"
      ]
     },
     "metadata": {
      "needs_background": "light"
     },
     "output_type": "display_data"
    }
   ],
   "source": [
    "# Your turn!\n",
    "mean_shape=np.mean(aligned_shapes,0)\n",
    "plt.scatter(mean_shape[:,0],mean_shape[:,1])\n",
    "plt.show()"
   ]
  },
  {
   "cell_type": "markdown",
   "id": "fc1e7ea5",
   "metadata": {},
   "source": [
    "**2.5** Repeat 2.3 and 2.4 by aligning the dataset onto a different, randomly chosen shape (e.g., the first one). Does the mean shape differ from what you got in 2.4? "
   ]
  },
  {
   "cell_type": "code",
   "execution_count": 15,
   "id": "9b90c762",
   "metadata": {},
   "outputs": [],
   "source": [
    "# Your turn!\n",
    "# Align the whole dataset onto the first preshape\n",
    "aligned_shapes_2=np.zeros(preshapes.shape)\n",
    "\n",
    "reference=preshapes[0]\n",
    "for i in range(0,len(preshapes)):\n",
    "    res=scipy.optimize.minimize(objectiveFunctionAlignment,0,args=(reference,preshapes[i]),method=\"L-BFGS-B\")\n",
    "    theta0=res.x[0]\n",
    "    R=np.array([[np.cos(theta0),-np.sin(theta0)],[np.sin(theta0),np.cos(theta0)]])\n",
    "    aligned_shapes_2[i]=R.dot(preshapes[i].T).T"
   ]
  },
  {
   "cell_type": "code",
   "execution_count": 16,
   "id": "1e2a9f95",
   "metadata": {},
   "outputs": [
    {
     "data": {
      "image/png": "[encoded data removed]",
      "text/plain": [
       "<Figure size 432x288 with 1 Axes>"
      ]
     },
     "metadata": {
      "needs_background": "light"
     },
     "output_type": "display_data"
    }
   ],
   "source": [
    "# Your turn!\n",
    "mean_shape_2=np.mean(aligned_shapes_2,0)\n",
    "plt.scatter(mean_shape_2[:,0],mean_shape_2[:,1])\n",
    "plt.show()"
   ]
  },
  {
   "cell_type": "markdown",
   "id": "404b3eeb",
   "metadata": {},
   "source": [
    "**2.3** Pick one random shapes in the dataset. Relying on the function ``geodesicPath`` below, compute the geodesic path between this shape and the Fréchet mean, and visualize elements along the path."
   ]
  },
  {
   "cell_type": "code",
   "execution_count": 37,
   "id": "8d6dae38",
   "metadata": {},
   "outputs": [],
   "source": [
    "def hermitianProduct(z,w):\n",
    "    '''Hermitian product of z and w in the space of complex landmark configurations.'''\n",
    "    return z.conj().T @ np.eye(len(z)) @ w\n",
    "\n",
    "def geodesicDistance(z,w): \n",
    "    '''Geodesic distance between [z] and [w].'''\n",
    "    aux=np.abs(hermitianProduct(z,w))\n",
    "    if aux>1.0: \n",
    "        aux=1.0\n",
    "    return np.arccos(aux)\n",
    "\n",
    "def geodesicPath(z,w,numSteps): \n",
    "    '''Returns elements regularly spaced along the geodesic curve joining z to w (preshapes).'''\n",
    "    ro = geodesicDistance(z,w)\n",
    "    steps = np.arange(numSteps+1)/numSteps\n",
    "\n",
    "    ta = np.angle(hermitianProduct(z,w))\n",
    "    path = 1/np.sin(ro)*(np.sin((1-steps[:,None])*ro)*np.exp(1j*ta)*z + np.sin(steps[:,None]*ro)*w)\n",
    "    return path"
   ]
  },
  {
   "cell_type": "code",
   "execution_count": 58,
   "id": "9defdb1b",
   "metadata": {},
   "outputs": [
    {
     "data": {
      "image/png": "[encoded data removed]",
      "text/plain": [
       "<Figure size 432x288 with 1 Axes>"
      ]
     },
     "metadata": {
      "needs_background": "light"
     },
     "output_type": "display_data"
    }
   ],
   "source": [
    "# Your turn!\n",
    "# Pick two random complex preshapes and visualize them\n",
    "random=np.random.choice(len(complex_preshapes)-1, size=1, replace=False)[0]\n",
    "plt.scatter(mean_shape_Frechet.real,mean_shape_Frechet.imag)\n",
    "plt.scatter(complex_preshapes[random].real,complex_preshapes[random].imag)\n",
    "plt.axis('off')\n",
    "plt.show()"
   ]
  },
  {
   "cell_type": "code",
   "execution_count": 59,
   "id": "5c77e6cb",
   "metadata": {},
   "outputs": [
    {
     "data": {
      "image/png": "[encoded data removed]",
      "text/plain": [
       "<Figure size 720x72 with 10 Axes>"
      ]
     },
     "metadata": {
      "needs_background": "light"
     },
     "output_type": "display_data"
    }
   ],
   "source": [
    "# Compute N steps along the geodesic path\n",
    "steps=10\n",
    "path=geodesicPath(mean_shape_Frechet,complex_preshapes[random],steps)\n",
    "\n",
    "fig, ax = plt.subplots(1,steps, figsize=(steps,1))\n",
    "for i in range(0,steps):\n",
    "    ax[i].scatter(path[i].real,path[i].imag, s=.5)\n",
    "    ax[i].axis('off')"
   ]
  },
  {
   "cell_type": "markdown",
   "id": "ca215afd",
   "metadata": {},
   "source": [
    "**2.4** Compare the length of the above geodesics with the Procrustes distance. What do you observe? How does it relate to your findings in 2.2?"
   ]
  },
  {
   "cell_type": "markdown",
   "id": "15e5f681",
   "metadata": {},
   "source": [
    "**TODO TODO TODO**"
   ]
  },
  {
   "cell_type": "code",
   "execution_count": 20,
   "id": "92f6e690",
   "metadata": {},
   "outputs": [],
   "source": [
    "def fullDistance(z,w): # preshapes\n",
    "    '''Full distance between [z] and [w]\n",
    "    min_{alpha,theta} ||alpha e^{i theta} z - w||\n",
    "                    = || w - P_z w || = ||z - P_w z|| \\in [0,1] '''\n",
    "    return np.sqrt(1.0 - np.abs(z.conj().T @ w)**2)"
   ]
  },
  {
   "cell_type": "code",
   "execution_count": 62,
   "id": "a8770f66",
   "metadata": {},
   "outputs": [
    {
     "name": "stdout",
     "output_type": "stream",
     "text": [
      "0.6587200060944814\n",
      "0.6121051647473548\n"
     ]
    }
   ],
   "source": [
    "geo_distance=geodesicDistance(mean_shape_Frechet,complex_preshapes[random])\n",
    "procrustes_distance=fullDistance(mean_shape_Frechet,complex_preshapes[random])\n",
    "\n",
    "print(geo_distance)\n",
    "print(procrustes_distance)"
   ]
  },
  {
   "cell_type": "code",
   "execution_count": 67,
   "id": "1a2e2dca",
   "metadata": {},
   "outputs": [],
   "source": [
    "N=complex_preshapes.shape[1]\n",
    "SQ = complex_preshapes.T @ complex_preshapes.conj() @ np.eye(N)\n",
    "D,V = np.linalg.eig(SQ)\n",
    "ds = np.real(D)\n",
    "ind_max = np.argmax(ds)\n",
    "ds_max = np.max(ds)\n",
    "\n",
    "a=ds_max/len(complex_preshapes)"
   ]
  },
  {
   "cell_type": "code",
   "execution_count": 68,
   "id": "27e0c7e9",
   "metadata": {},
   "outputs": [
    {
     "data": {
      "text/plain": [
       "0.6279462883915536"
      ]
     },
     "execution_count": 68,
     "metadata": {},
     "output_type": "execute_result"
    }
   ],
   "source": [
    "ref=np.stack((mean_shape_Frechet.real,mean_shape_Frechet.imag),axis=1)\n",
    "aligned=np.stack((complex_preshapes[random].real,complex_preshapes[random].imag),axis=1)\n",
    "\n",
    "np.linalg.norm(aligned_shapes[random]-a*ref)\n"
   ]
  },
  {
   "cell_type": "markdown",
   "id": "98a558b1",
   "metadata": {},
   "source": [
    "### 3. Shape space PCA"
   ]
  },
  {
   "cell_type": "markdown",
   "id": "b13deb34",
   "metadata": {},
   "source": [
    "**3.1** Perform PCA in the tangent place around the Fréchet mean, using the logarithmic and exponential maps appropriately.\n",
    "\n",
    "*Hint:*"
   ]
  },
  {
   "cell_type": "code",
   "execution_count": null,
   "id": "d0abaa7d",
   "metadata": {},
   "outputs": [],
   "source": []
  },
  {
   "cell_type": "markdown",
   "id": "57ed4dc7",
   "metadata": {},
   "source": [
    "**3.2** Visualize the two first modes of shape variation (PC 1 and PC 2). What happens if you don’t use the exponential and logarithmic maps? Do you understand why? "
   ]
  },
  {
   "cell_type": "code",
   "execution_count": null,
   "id": "f0233d2f",
   "metadata": {},
   "outputs": [],
   "source": []
  },
  {
   "cell_type": "markdown",
   "id": "331b0980",
   "metadata": {},
   "source": [
    "**3.3** Plot the dataset by log-mapping around the Fréchet mean. What does it tell us about the dataset?"
   ]
  },
  {
   "cell_type": "code",
   "execution_count": null,
   "id": "3ef34440",
   "metadata": {},
   "outputs": [],
   "source": []
  },
  {
   "cell_type": "markdown",
   "id": "f9c026e1",
   "metadata": {},
   "source": [
    "### 4. Statistical shape modelling"
   ]
  },
  {
   "cell_type": "markdown",
   "id": "5f1f4fd9",
   "metadata": {},
   "source": [
    "**4.1** Using the mean shape and covariance matrix of the dataset, build a simple statistical shape model (multivariate Gaussian).\n",
    "\n",
    "*Hint:*\n"
   ]
  },
  {
   "cell_type": "code",
   "execution_count": null,
   "id": "46ff2e7a",
   "metadata": {},
   "outputs": [],
   "source": []
  },
  {
   "cell_type": "markdown",
   "id": "1b0bed43",
   "metadata": {},
   "source": [
    "**4.2** Using your statistical model, generate a collection of synthetic shapes. How good do you think this model is? Why?\n",
    "\n",
    "*Hint:*"
   ]
  },
  {
   "cell_type": "code",
   "execution_count": null,
   "id": "5edc947c",
   "metadata": {},
   "outputs": [],
   "source": []
  }
 ],
 "metadata": {
  "kernelspec": {
   "display_name": "Python 3",
   "language": "python",
   "name": "python3"
  },
  "language_info": {
   "codemirror_mode": {
    "name": "ipython",
    "version": 3
   },
   "file_extension": ".py",
   "mimetype": "text/x-python",
   "name": "python",
   "nbconvert_exporter": "python",
   "pygments_lexer": "ipython3",
   "version": "3.7.3"
  }
 },
 "nbformat": 4,
 "nbformat_minor": 5
}
