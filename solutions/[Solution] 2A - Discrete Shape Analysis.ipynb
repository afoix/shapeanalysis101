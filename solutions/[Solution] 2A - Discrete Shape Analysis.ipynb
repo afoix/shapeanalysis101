{
 "cells": [
  {
   "cell_type": "markdown",
   "id": "d35c3df7",
   "metadata": {},
   "source": [
    "## Part 2A: Discrete shape analysis"
   ]
  },
  {
   "cell_type": "markdown",
   "id": "27cdcf3b",
   "metadata": {},
   "source": [
    "In this notebook, we will learn the basics of shape analysis on landmarked data."
   ]
  },
  {
   "cell_type": "code",
   "execution_count": 1,
   "id": "8669f5ee",
   "metadata": {},
   "outputs": [],
   "source": [
    "import os\n",
    "import numpy as np\n",
    "import matplotlib.pyplot as plt"
   ]
  },
  {
   "cell_type": "markdown",
   "id": "ba34c4a0",
   "metadata": {},
   "source": [
    "### 0. Data loading"
   ]
  },
  {
   "cell_type": "markdown",
   "id": "dc55ccc8",
   "metadata": {},
   "source": [
    "**0.1** Run the lines below to load point-based object models of objects in the C. elegans dataset."
   ]
  },
  {
   "cell_type": "code",
   "execution_count": 2,
   "id": "e0ffe14f",
   "metadata": {},
   "outputs": [],
   "source": [
    "dataset='data/C. elegans/point_models.npy'\n",
    "point_models=np.load(dataset)"
   ]
  },
  {
   "cell_type": "code",
   "execution_count": 3,
   "id": "deecd98a",
   "metadata": {},
   "outputs": [],
   "source": [
    "# The number of points in our object model is an important parameter\n",
    "N=point_models.shape[1]"
   ]
  },
  {
   "cell_type": "markdown",
   "id": "1c9d2cdb",
   "metadata": {},
   "source": [
    "**0.2** Run the lines below to visualize a set of a few randomly selected models from the collection."
   ]
  },
  {
   "cell_type": "code",
   "execution_count": 4,
   "id": "e91ff6f6",
   "metadata": {},
   "outputs": [
    {
     "data": {
      "image/png": "[encoded data removed]",
      "text/plain": [
       "<Figure size 720x72 with 10 Axes>"
      ]
     },
     "metadata": {
      "needs_background": "light"
     },
     "output_type": "display_data"
    }
   ],
   "source": [
    "number=10\n",
    "inds=np.random.choice(len(point_models)-1, size=number, replace=False)\n",
    "\n",
    "fig, ax = plt.subplots(1,number, figsize=(number,1))\n",
    "for i in range(number):\n",
    "    point_model=np.array(point_models[inds[i]])\n",
    "    ax[i].scatter(point_model[:,0],point_model[:,1],s=1)\n",
    "    ax[i].axis('off')"
   ]
  },
  {
   "cell_type": "markdown",
   "id": "8ed49c8c",
   "metadata": {},
   "source": [
    "### 1. Procrustes alignment"
   ]
  },
  {
   "cell_type": "markdown",
   "id": "b314d500",
   "metadata": {},
   "source": [
    "**1.1** Center and scale the data such that they are all located around (0,0) and are of unit norm. Object models normalized in this way are referred to as preshapes.\n",
    "\n",
    "*Hint: use ``np.linalg.norm`` to normalize*"
   ]
  },
  {
   "cell_type": "code",
   "execution_count": 5,
   "id": "d759a609",
   "metadata": {},
   "outputs": [],
   "source": [
    "# Solution:\n",
    "preshapes=np.zeros(point_models.shape)\n",
    "\n",
    "for i in range(len(point_models)):\n",
    "    point_model=point_models[i]\n",
    "    \n",
    "    centroid=np.mean(point_model,0)\n",
    "    centered=point_model-centroid\n",
    "    \n",
    "    scaled=centered/np.linalg.norm(centered)\n",
    "    preshapes[i]=scaled"
   ]
  },
  {
   "cell_type": "markdown",
   "id": "cc4b1c29",
   "metadata": {},
   "source": [
    "**1.2** Write an objective function to align one object model onto another one, assuming that the two models are in correspondence†. This problem can be formulated as finding the rotation angle that minimizes the root mean square error (RMSE) between the two point sets.\n",
    "\n",
    "*Hint: assuming the distance between two models is ``L``, the RMSE is given as ``np.sqrt(np.mean(L**2))``*\n",
    "\n",
    "† Bonus question: do you understand what this assumption means? Which step must be performed when building the object models to ensure that it holds?"
   ]
  },
  {
   "cell_type": "code",
   "execution_count": 6,
   "id": "ce6f4b17",
   "metadata": {},
   "outputs": [],
   "source": [
    "import scipy.optimize"
   ]
  },
  {
   "cell_type": "code",
   "execution_count": 7,
   "id": "301304f6",
   "metadata": {},
   "outputs": [
    {
     "data": {
      "image/png": "[encoded data removed]",
      "text/plain": [
       "<Figure size 432x288 with 1 Axes>"
      ]
     },
     "metadata": {
      "needs_background": "light"
     },
     "output_type": "display_data"
    }
   ],
   "source": [
    "# Pick two random models - reload if you are not happy with the selection :)\n",
    "random=np.random.choice(len(point_models)-1, size=2, replace=False)\n",
    "\n",
    "sample_preshape_1=preshapes[random[0]]\n",
    "sample_preshape_2=preshapes[random[1]]\n",
    "\n",
    "plt.scatter(sample_preshape_1[:,0],sample_preshape_1[:,1])\n",
    "plt.scatter(sample_preshape_2[:,0],sample_preshape_2[:,1])\n",
    "plt.axis('off')\n",
    "plt.show()"
   ]
  },
  {
   "cell_type": "code",
   "execution_count": 8,
   "id": "4ecd75bb",
   "metadata": {},
   "outputs": [],
   "source": [
    "# Solution:\n",
    "def objectiveFunctionAlignment(theta, m1, m2):\n",
    "    R=np.array([[np.cos(theta[0]),-np.sin(theta[0])],[np.sin(theta[0]),np.cos(theta[0])]])\n",
    "    rotated_m2=(R@m2.T).T\n",
    "    error=np.linalg.norm(m1-rotated_m2)\n",
    "    rmse=np.sqrt(np.mean(error**2))\n",
    "    return rmse"
   ]
  },
  {
   "cell_type": "code",
   "execution_count": 9,
   "id": "7e7c5ea4",
   "metadata": {},
   "outputs": [
    {
     "name": "stdout",
     "output_type": "stream",
     "text": [
      "-2.289330190784456\n"
     ]
    }
   ],
   "source": [
    "# Optimize\n",
    "res=scipy.optimize.minimize(objectiveFunctionAlignment,0,args=(sample_preshape_1,sample_preshape_2),method=\"L-BFGS-B\")\n",
    "theta0=res.x[0]\n",
    "print(theta0)"
   ]
  },
  {
   "cell_type": "code",
   "execution_count": 10,
   "id": "88b54167",
   "metadata": {},
   "outputs": [
    {
     "data": {
      "image/png": "[encoded data removed]",
      "text/plain": [
       "<Figure size 432x288 with 1 Axes>"
      ]
     },
     "metadata": {
      "needs_background": "light"
     },
     "output_type": "display_data"
    }
   ],
   "source": [
    "# Visualize the alignment\n",
    "plt.scatter(sample_preshape_1[:,0],sample_preshape_1[:,1])\n",
    "\n",
    "R=np.array([[np.cos(theta0),-np.sin(theta0)],[np.sin(theta0),np.cos(theta0)]])\n",
    "aligned=(R@sample_preshape_2.T).T\n",
    "\n",
    "plt.scatter(aligned[:,0],aligned[:,1])\n",
    "plt.axis('off')\n",
    "plt.show()"
   ]
  },
  {
   "cell_type": "markdown",
   "id": "299cca28",
   "metadata": {},
   "source": [
    "**1.3** Object models in 2D can be seen as vectors of complex numbers associated with an appropriate Hermitian inner product. The lines below transforms your two objects into complex vectors. Run the lines below to convince yourself that the \"vector of complex numbers\" representation is equivalent to the \"vector of points\" one."
   ]
  },
  {
   "cell_type": "code",
   "execution_count": 11,
   "id": "236a23c5",
   "metadata": {},
   "outputs": [
    {
     "data": {
      "image/png": "[encoded data removed]",
      "text/plain": [
       "<Figure size 432x288 with 1 Axes>"
      ]
     },
     "metadata": {
      "needs_background": "light"
     },
     "output_type": "display_data"
    }
   ],
   "source": [
    "complex_sample_preshape_1=sample_preshape_1[:,0]+1j*sample_preshape_1[:,1]\n",
    "complex_sample_preshape_2=sample_preshape_2[:,0]+1j*sample_preshape_2[:,1]\n",
    "\n",
    "plt.scatter(complex_sample_preshape_1.real,complex_sample_preshape_1.imag)\n",
    "plt.scatter(complex_sample_preshape_2.real,complex_sample_preshape_2.imag)\n",
    "plt.axis('off')\n",
    "plt.show()"
   ]
  },
  {
   "cell_type": "markdown",
   "id": "8f15a078",
   "metadata": {},
   "source": [
    "**1.4** The solution of the optimal alignment problem 1.2 can actually be expressed in closed-form when relying on complex representations, bypassing the need for an optimization. Run the lines below to verify that you obtain the same solution as in 1.2 (and be amazed by the beauty of maths :))."
   ]
  },
  {
   "cell_type": "code",
   "execution_count": 12,
   "id": "0e063e94",
   "metadata": {},
   "outputs": [
    {
     "name": "stdout",
     "output_type": "stream",
     "text": [
      "-2.2893301863460827\n"
     ]
    }
   ],
   "source": [
    "theta0_complex=np.angle(complex_sample_preshape_2.conj().T @ complex_sample_preshape_1)\n",
    "print(theta0_complex)"
   ]
  },
  {
   "cell_type": "code",
   "execution_count": 13,
   "id": "e6fe5724",
   "metadata": {},
   "outputs": [
    {
     "data": {
      "image/png": "[encoded data removed]",
      "text/plain": [
       "<Figure size 432x288 with 1 Axes>"
      ]
     },
     "metadata": {
      "needs_background": "light"
     },
     "output_type": "display_data"
    }
   ],
   "source": [
    "# Visualize the alignment \n",
    "plt.scatter(complex_sample_preshape_1.real,complex_sample_preshape_1.imag)\n",
    "\n",
    "aligned_complex=np.exp(1j*theta0_complex)*complex_sample_preshape_2\n",
    "\n",
    "plt.scatter(aligned_complex.real,aligned_complex.imag)\n",
    "plt.axis('off')\n",
    "plt.show()"
   ]
  },
  {
   "cell_type": "markdown",
   "id": "ba4150db",
   "metadata": {},
   "source": [
    "### 2. Kendall shape space"
   ]
  },
  {
   "cell_type": "markdown",
   "id": "9807ad97",
   "metadata": {},
   "source": [
    "**2.1** To build the shape space, we will rely on the complex representation introduced in 1.3. Convert your whole collection of preshapes (obtained in 1.1) into complex numbers. "
   ]
  },
  {
   "cell_type": "code",
   "execution_count": 14,
   "id": "002f5ec7",
   "metadata": {},
   "outputs": [],
   "source": [
    "# Solution\n",
    "complex_preshapes=preshapes[:,:,0] + 1j*preshapes[:,:,1]"
   ]
  },
  {
   "cell_type": "markdown",
   "id": "a493cdb8",
   "metadata": {},
   "source": [
    "**2.2** The function below computes the Fréchet mean of a dataset relying on complex number representations. Use it to extract the Fréchet mean of your dataset and visualize it."
   ]
  },
  {
   "cell_type": "code",
   "execution_count": 15,
   "id": "bf73ba6f",
   "metadata": {},
   "outputs": [],
   "source": [
    "def meanFrechet(input_complex_preshapes): # preshapes\n",
    "    '''Input: dataset of complex preshapes.\n",
    "    Output: Fréchet mean (w.r.t. the Procrustes distance).'''\n",
    "    SQ = input_complex_preshapes.T @ input_complex_preshapes.conj()\n",
    "    D,V = np.linalg.eig(SQ)\n",
    "    ds = np.real(D)\n",
    "    ind_max = np.argmax(ds)\n",
    "    ds_max = np.max(ds)\n",
    "    m = V[:,ind_max]\n",
    "    \n",
    "    centered_m=m-np.mean(m)\n",
    "    m_norm=np.sqrt(centered_m.conj().T @ centered_m).real\n",
    "    return m/m_norm"
   ]
  },
  {
   "cell_type": "code",
   "execution_count": 16,
   "id": "7c0867aa",
   "metadata": {},
   "outputs": [
    {
     "data": {
      "image/png": "[encoded data removed]",
      "text/plain": [
       "<Figure size 432x288 with 1 Axes>"
      ]
     },
     "metadata": {
      "needs_background": "light"
     },
     "output_type": "display_data"
    }
   ],
   "source": [
    "# Solution:\n",
    "mean_shape_Frechet=meanFrechet(complex_preshapes)\n",
    "plt.scatter(mean_shape_Frechet.real,mean_shape_Frechet.imag)\n",
    "plt.axis('off')\n",
    "plt.show()"
   ]
  },
  {
   "cell_type": "markdown",
   "id": "c58462d8",
   "metadata": {},
   "source": [
    "**2.3** Using the alignment procedure introduced in 1.4, align each element of the dataset onto the Fréchet mean (computed in 2.2)."
   ]
  },
  {
   "cell_type": "code",
   "execution_count": 44,
   "id": "a6896bcd",
   "metadata": {},
   "outputs": [],
   "source": [
    "# Solution:\n",
    "complex_aligned_shapes=np.zeros(complex_preshapes.shape, dtype=np.complex)\n",
    "\n",
    "for i in range(len(complex_preshapes)):\n",
    "    theta=np.angle(complex_preshapes[i].conj().T @ mean_shape_Frechet)\n",
    "    complex_aligned_shapes[i] = np.exp(1j*theta)*complex_preshapes[i]\n",
    "    \n",
    "    # Use this one to retrieve the geometrical mean (scaling with alignment)\n",
    "    #complex_aligned_shapes[i] = (complex_preshapes[i].conj().T @ mean_shape_Frechet)*complex_preshapes[i]"
   ]
  },
  {
   "cell_type": "markdown",
   "id": "abd372bb",
   "metadata": {},
   "source": [
    "**2.4** Now that all shapes are aligned, compute the (point-by-point) mean shape of the dataset and visualize it. Does it differ from what you got in 2.2?"
   ]
  },
  {
   "cell_type": "code",
   "execution_count": 45,
   "id": "fbb42c8d",
   "metadata": {},
   "outputs": [
    {
     "data": {
      "image/png": "[encoded data removed]",
      "text/plain": [
       "<Figure size 432x288 with 1 Axes>"
      ]
     },
     "metadata": {
      "needs_background": "light"
     },
     "output_type": "display_data"
    },
    {
     "data": {
      "image/png": "[encoded data removed]",
      "text/plain": [
       "<Figure size 432x288 with 1 Axes>"
      ]
     },
     "metadata": {
      "needs_background": "light"
     },
     "output_type": "display_data"
    }
   ],
   "source": [
    "# Solution:\n",
    "mean_shape=np.mean(complex_aligned_shapes,0)\n",
    "\n",
    "fig, ax = plt.subplots(1,1)\n",
    "ax.scatter(mean_shape.real,mean_shape.imag)\n",
    "ax.axis('off')\n",
    "plt.show()\n",
    "\n",
    "# It is equal to the Fréchet mean, up to a scaling factor\n",
    "fig, ax = plt.subplots(1,1)\n",
    "ax.scatter(mean_shape_Frechet.real,mean_shape_Frechet.imag)\n",
    "\n",
    "mean_shape_c=mean_shape-np.mean(mean_shape)\n",
    "mean_shape_norm=mean_shape_c/np.sqrt(mean_shape_c.conj().T @ mean_shape_c).real\n",
    "ax.scatter(mean_shape_norm.real,mean_shape_norm.imag)\n",
    "ax.axis('off')\n",
    "plt.show()"
   ]
  },
  {
   "cell_type": "markdown",
   "id": "35971655",
   "metadata": {},
   "source": [
    "**2.5** Repeat 2.3 and 2.4 by aligning the dataset onto an arbitrarily chosen shape from the collection (e.g., the first one). Does the mean shape differ from what you got in 2.4? "
   ]
  },
  {
   "cell_type": "code",
   "execution_count": 19,
   "id": "c687b3a4",
   "metadata": {},
   "outputs": [
    {
     "data": {
      "image/png": "[encoded data removed]",
      "text/plain": [
       "<Figure size 432x288 with 1 Axes>"
      ]
     },
     "metadata": {
      "needs_background": "light"
     },
     "output_type": "display_data"
    }
   ],
   "source": [
    "# Solution\n",
    "# Align the whole dataset onto the first preshape\n",
    "complex_aligned_shapes_2=np.zeros(complex_preshapes.shape, dtype=np.complex)\n",
    "\n",
    "for i in range(len(complex_preshapes)):\n",
    "    complex_aligned_shapes_2[i] = (complex_preshapes[i].conj().T @ complex_preshapes[0])*complex_preshapes[i]\n",
    "    \n",
    "# It is completely different from the Fréchet mean!\n",
    "mean_shape_2=np.mean(complex_aligned_shapes_2,0)\n",
    "plt.scatter(mean_shape_2.real,mean_shape_2.imag)\n",
    "plt.axis('off')\n",
    "plt.show()"
   ]
  },
  {
   "cell_type": "markdown",
   "id": "404b3eeb",
   "metadata": {},
   "source": [
    "**2.6** Relying on the function ``geodesicPath`` below, compute the geodesic path between a randomly picked shape in the dataset and the Fréchet mean, and visualize elements along the path."
   ]
  },
  {
   "cell_type": "code",
   "execution_count": 20,
   "id": "8d6dae38",
   "metadata": {},
   "outputs": [],
   "source": [
    "def geodesicDistance(z,w): \n",
    "    '''Geodesic distance between [z] and [w].'''\n",
    "    aux=np.abs(z.conj().T @ w)\n",
    "    if aux>1.0: \n",
    "        aux=1.0\n",
    "    return np.arccos(aux)\n",
    "\n",
    "def geodesicPath(z,w,numSteps): \n",
    "    '''Returns elements regularly spaced along the geodesic curve joining z to w (preshapes).'''\n",
    "    ro = geodesicDistance(z,w)\n",
    "    steps = np.arange(numSteps+1)/numSteps\n",
    "\n",
    "    ta = np.angle(z.conj().T @ w)\n",
    "    path = 1/np.sin(ro)*(np.sin((1-steps[:,None])*ro)*np.exp(1j*ta)*z + np.sin(steps[:,None]*ro)*w)\n",
    "    return path"
   ]
  },
  {
   "cell_type": "code",
   "execution_count": 21,
   "id": "7ac81cde",
   "metadata": {},
   "outputs": [
    {
     "data": {
      "image/png": "[encoded data removed]",
      "text/plain": [
       "<Figure size 432x288 with 1 Axes>"
      ]
     },
     "metadata": {
      "needs_background": "light"
     },
     "output_type": "display_data"
    }
   ],
   "source": [
    "# Pick one random complex preshape and visualize it with the Fréchet mean - reload if you are not happy with the selection :)\n",
    "random=np.random.choice(len(complex_preshapes)-1, size=1, replace=False)[0]\n",
    "sample_preshape=complex_preshapes[random]\n",
    "\n",
    "plt.scatter(mean_shape_Frechet.real,mean_shape_Frechet.imag)\n",
    "plt.scatter(sample_preshape.real,sample_preshape.imag)\n",
    "plt.axis('off')\n",
    "plt.show()"
   ]
  },
  {
   "cell_type": "code",
   "execution_count": 22,
   "id": "23e313d3",
   "metadata": {},
   "outputs": [
    {
     "data": {
      "image/png": "[encoded data removed]",
      "text/plain": [
       "<Figure size 720x72 with 10 Axes>"
      ]
     },
     "metadata": {
      "needs_background": "light"
     },
     "output_type": "display_data"
    }
   ],
   "source": [
    "# Solution:\n",
    "# Compute N steps along the geodesic path\n",
    "steps=10\n",
    "path=geodesicPath(mean_shape_Frechet,sample_preshape,steps)\n",
    "\n",
    "fig, ax = plt.subplots(1,steps, figsize=(steps,1))\n",
    "for i in range(steps):\n",
    "    ax[i].scatter(path[i].real,path[i].imag, s=.5)\n",
    "    ax[i].axis('off')"
   ]
  },
  {
   "cell_type": "markdown",
   "id": "ca215afd",
   "metadata": {},
   "source": [
    "**2.7** Compare the length of the above geodesics with the Procrustes distance (the distance you used for the alignment in 1.2). What do you observe? Can you relate that to what you know about the nature of the shape space?"
   ]
  },
  {
   "cell_type": "code",
   "execution_count": 23,
   "id": "42b64b62",
   "metadata": {},
   "outputs": [
    {
     "name": "stdout",
     "output_type": "stream",
     "text": [
      "Geodesic distance: 0.07936478007583544\n",
      "Procrustes distance: 0.07934395253399104\n"
     ]
    }
   ],
   "source": [
    "# Solution:\n",
    "geo_distance=geodesicDistance(sample_preshape,mean_shape_Frechet)\n",
    "print(\"Geodesic distance: \"+str(geo_distance))\n",
    "\n",
    "procrustes_dist=np.linalg.norm(complex_aligned_shapes[random]-mean_shape_Frechet)\n",
    "print(\"Procrustes distance: \"+str(procrustes_dist))"
   ]
  },
  {
   "cell_type": "markdown",
   "id": "26231aae",
   "metadata": {},
   "source": [
    "**2.8** Compare the Procrustes distance (the distance you used for the alignment in 1.2) with the chord distance on the shape space defined below. What do you observe?"
   ]
  },
  {
   "cell_type": "code",
   "execution_count": 24,
   "id": "bc7e4048",
   "metadata": {},
   "outputs": [],
   "source": [
    "def chordDistance(z,w): # preshapes\n",
    "    '''Chord distance between [z] and [w].'''\n",
    "    return np.sqrt(1.0 - np.abs(z.conj().T @ w)**2)"
   ]
  },
  {
   "cell_type": "code",
   "execution_count": 25,
   "id": "1d438cdb",
   "metadata": {},
   "outputs": [
    {
     "name": "stdout",
     "output_type": "stream",
     "text": [
      "Geodesic distance: 0.07928148958450787\n",
      "Procrustes distance: 0.07934395253399104\n"
     ]
    }
   ],
   "source": [
    "# Solution:\n",
    "chord_distance=chordDistance(sample_preshape,mean_shape_Frechet)\n",
    "print(\"Geodesic distance: \"+str(chord_distance))\n",
    "print(\"Procrustes distance: \"+str(procrustes_dist))"
   ]
  },
  {
   "cell_type": "markdown",
   "id": "98a558b1",
   "metadata": {},
   "source": [
    "### 3. Shape space PCA on the whole dataset"
   ]
  },
  {
   "cell_type": "markdown",
   "id": "e6d96c0d",
   "metadata": {},
   "source": [
    "A classical trick to perform local linear operations on a Riemannian manifold is to rely on local tangent spaces. The way into and out of the tangent space are the logarithm and exponential maps, respectively. Their expression for the shape space of point-based models we are currently working with are provided below."
   ]
  },
  {
   "cell_type": "code",
   "execution_count": 26,
   "id": "96de15ba",
   "metadata": {},
   "outputs": [],
   "source": [
    "def logarithmMap(z,w): \n",
    "    '''Computes a preshape pertaining to the equivalence class log_[z]([w]),\n",
    "    where log is relative the shape space Sigma'''\n",
    "    ta = np.angle(z.conj().T @ w)\n",
    "    w_r = np.exp(-1j*ta)*w\n",
    "    ro = geodesicDistance(z,w_r)\n",
    "    return ro/np.sin(ro)*(w_r - np.cos(ro)*z)\n",
    "\n",
    "def exponentialMap(z,v): \n",
    "    '''Computes the exponential of the tangent vector v in C^n at a preshape z'''\n",
    "    t = np.sqrt(v.conj().T @ v).real\n",
    "    if t < 1e-16 :\n",
    "        return z\n",
    "    return np.cos(t)*z + v*np.sin(t)/t"
   ]
  },
  {
   "cell_type": "markdown",
   "id": "b13deb34",
   "metadata": {},
   "source": [
    "**3.1** The lines below perform PCA in the tangent plane around the Fréchet mean using the logarithmic and exponential maps appropriately and displays the explained variance. What do you notice?"
   ]
  },
  {
   "cell_type": "code",
   "execution_count": 27,
   "id": "6f8384f2",
   "metadata": {},
   "outputs": [],
   "source": [
    "from sklearn.decomposition import PCA"
   ]
  },
  {
   "cell_type": "code",
   "execution_count": 28,
   "id": "d0abaa7d",
   "metadata": {},
   "outputs": [
    {
     "data": {
      "image/png": "[encoded data removed]",
      "text/plain": [
       "<Figure size 432x288 with 1 Axes>"
      ]
     },
     "metadata": {
      "needs_background": "light"
     },
     "output_type": "display_data"
    }
   ],
   "source": [
    "tangent_vectors=np.zeros((len(complex_preshapes),2*N))\n",
    "for i in range(len(complex_preshapes)):\n",
    "    tangent_vector=logarithmMap(mean_shape_Frechet, complex_preshapes[i])\n",
    "    tangent_vectors[i,:N]=tangent_vector.real\n",
    "    tangent_vectors[i,N:]=tangent_vector.imag\n",
    "\n",
    "tangent_plane_pca = PCA()\n",
    "transformed_vectors = tangent_plane_pca.fit_transform(tangent_vectors)\n",
    "\n",
    "plt.plot(np.linspace(1,tangent_plane_pca.n_components_,tangent_plane_pca.n_components_),tangent_plane_pca.explained_variance_)\n",
    "plt.xlabel(\"Principal component\")\n",
    "plt.ylabel(\"Variance explained\")\n",
    "plt.show()"
   ]
  },
  {
   "cell_type": "markdown",
   "id": "57ed4dc7",
   "metadata": {},
   "source": [
    "**3.2** The lines below retreive the four first modes of shape variation and visualize them around the mean. What does it tell you about the shapes present in the data?"
   ]
  },
  {
   "cell_type": "code",
   "execution_count": 29,
   "id": "f0233d2f",
   "metadata": {},
   "outputs": [
    {
     "data": {
      "image/png": "[encoded data removed]",
      "text/plain": [
       "<Figure size 1440x360 with 4 Axes>"
      ]
     },
     "metadata": {
      "needs_background": "light"
     },
     "output_type": "display_data"
    }
   ],
   "source": [
    "l=np.sqrt(tangent_plane_pca.explained_variance_)\n",
    "K=4\n",
    "\n",
    "modes_shape=np.zeros((K,2,N),dtype=np.complex)\n",
    "for i in range(K) :\n",
    "    vector=np.zeros(tangent_plane_pca.n_components_)\n",
    "    vector[i]=1\n",
    "    mode=l[i]*tangent_plane_pca.inverse_transform(vector)\n",
    "    complex_mode=mode[:N]+1j*mode[N:]\n",
    "    modes_shape[i][0]=exponentialMap(mean_shape_Frechet, complex_mode)\n",
    "    modes_shape[i][1]=exponentialMap(mean_shape_Frechet, -complex_mode)\n",
    "    \n",
    "fig, ax = plt.subplots(1, K, figsize=(5*K,5))\n",
    "for i in range(K):\n",
    "    ax[i].scatter(mean_shape_Frechet.real,mean_shape_Frechet.imag)\n",
    "    ax[i].scatter(modes_shape[i][0].real, modes_shape[i][0].imag)\n",
    "    ax[i].scatter(modes_shape[i][1].real, modes_shape[i][1].imag)\n",
    "    ax[i].axis(\"off\")\n",
    "    \n",
    "    percent_variance=np.round(100*l[i]**2/np.sum(tangent_plane_pca.explained_variance_))\n",
    "    ax[i].set_title(\"Mode \"+str(i+1)+\", \"+str(percent_variance)+\"% of variance.\")"
   ]
  },
  {
   "cell_type": "markdown",
   "id": "331b0980",
   "metadata": {},
   "source": [
    "**3.3** The lines below plot the PCA-transformed data around the Fréchet mean. What does it tell you about the dataset?"
   ]
  },
  {
   "cell_type": "code",
   "execution_count": 30,
   "id": "3ef34440",
   "metadata": {},
   "outputs": [
    {
     "data": {
      "image/png": "[encoded data removed]",
      "text/plain": [
       "<Figure size 432x288 with 1 Axes>"
      ]
     },
     "metadata": {
      "needs_background": "light"
     },
     "output_type": "display_data"
    }
   ],
   "source": [
    "plt.scatter(transformed_vectors[:,0], transformed_vectors[:,1], c=\"g\")\n",
    "plt.scatter([0],[0], c=\"r\")\n",
    "plt.scatter([l[0],-l[0]], [0.,0.],c=\"blue\")\n",
    "plt.scatter([0.,0.],[l[1],-l[1]],c=\"cyan\")\n",
    "plt.axis(\"equal\")\n",
    "plt.title(\"PCA plot around the Fréchet mean\")\n",
    "plt.show()"
   ]
  },
  {
   "cell_type": "markdown",
   "id": "cd239157",
   "metadata": {},
   "source": [
    "**[BONUS] 3.4** The lines below perform PCA as above but without using the logarithm and exponential maps. What do you see? Can you relate that to what you observed in 2.7-2.8?"
   ]
  },
  {
   "cell_type": "code",
   "execution_count": 31,
   "id": "8f208a35",
   "metadata": {},
   "outputs": [
    {
     "data": {
      "image/png": "[encoded data removed]",
      "text/plain": [
       "<Figure size 432x288 with 1 Axes>"
      ]
     },
     "metadata": {
      "needs_background": "light"
     },
     "output_type": "display_data"
    }
   ],
   "source": [
    "# Perform PCA assuming the shape space is linear\n",
    "flattened_aligned_shapes=np.zeros((len(complex_aligned_shapes),2*N))\n",
    "for i in range(len(complex_aligned_shapes)):\n",
    "    flattened_aligned_shapes[i,:N]=complex_aligned_shapes[i].real\n",
    "    flattened_aligned_shapes[i,N:]=complex_aligned_shapes[i].imag\n",
    "    \n",
    "flat_pca = PCA()\n",
    "flat_transformed_data = flat_pca.fit_transform(flattened_aligned_shapes)\n",
    "\n",
    "plt.plot(flat_pca.explained_variance_)\n",
    "plt.xlabel(\"Number of principal components\")\n",
    "plt.ylabel(\"Variance explained\")\n",
    "plt.show()"
   ]
  },
  {
   "cell_type": "code",
   "execution_count": 32,
   "id": "8fe906c5",
   "metadata": {},
   "outputs": [
    {
     "data": {
      "image/png": "[encoded data removed]",
      "text/plain": [
       "<Figure size 1440x360 with 4 Axes>"
      ]
     },
     "metadata": {
      "needs_background": "light"
     },
     "output_type": "display_data"
    }
   ],
   "source": [
    "# Visualize the first K modes of variation\n",
    "flat_l=np.sqrt(flat_pca.explained_variance_)\n",
    "K=4\n",
    "\n",
    "flat_modes_shape=np.zeros((K,N,2))\n",
    "for i in range(K) :\n",
    "    vector=np.zeros(flat_pca.n_components_)\n",
    "    vector[i]=1\n",
    "    flat_mode=0.25*flat_l[i]*flat_pca.inverse_transform(vector)\n",
    "    flat_modes_shape[i][:,0]=flat_mode[:N]\n",
    "    flat_modes_shape[i][:,1]=flat_mode[N:]\n",
    "    \n",
    "fig, ax = plt.subplots(1, K, figsize=(5*K,5))\n",
    "for i in range(K):\n",
    "    ax[i].scatter(mean_shape_Frechet.real,mean_shape_Frechet.imag)\n",
    "    ax[i].scatter(flat_modes_shape[i][:,0], flat_modes_shape[i][:,1])\n",
    "    ax[i].scatter(-flat_modes_shape[i][:,0], -flat_modes_shape[i][:,1])\n",
    "    ax[i].axis(\"off\")\n",
    "    \n",
    "    percent_variance=np.round(100*flat_l[i]**2/np.sum(flat_pca.explained_variance_))\n",
    "    ax[i].set_title(\"Mode \"+str(i+1)+\", \"+str(percent_variance)+\"% of variance.\")"
   ]
  },
  {
   "cell_type": "markdown",
   "id": "8b156c7b",
   "metadata": {},
   "source": [
    "### 4. Shape space PCA on classes"
   ]
  },
  {
   "cell_type": "markdown",
   "id": "50101878",
   "metadata": {},
   "source": [
    "We actually know that the shape distribution is bimodal, because there are dead and alive worms. To have a clearer picture of shape variability, we can thus carry out shape PCA on each class individually."
   ]
  },
  {
   "cell_type": "markdown",
   "id": "6deea651",
   "metadata": {},
   "source": [
    "**4.1** Run the lines below to split the dataset into a collection of alive and a collection of dead C. elegans samples.  "
   ]
  },
  {
   "cell_type": "code",
   "execution_count": 33,
   "id": "f796d125",
   "metadata": {},
   "outputs": [],
   "source": [
    "label_data='data/C. elegans/labels.npy'\n",
    "labels=np.load(label_data)"
   ]
  },
  {
   "cell_type": "code",
   "execution_count": 34,
   "id": "effccca7",
   "metadata": {},
   "outputs": [],
   "source": [
    "complex_preshapes_dead=complex_preshapes[np.where(labels==0)]\n",
    "complex_preshapes_live=complex_preshapes[np.where(labels==1)]"
   ]
  },
  {
   "cell_type": "markdown",
   "id": "b88fc4fe",
   "metadata": {},
   "source": [
    "**4.2** Run the lines below to visualize a set of a few randomly selected models from each collection."
   ]
  },
  {
   "cell_type": "code",
   "execution_count": 35,
   "id": "71dae1a2",
   "metadata": {},
   "outputs": [
    {
     "data": {
      "image/png": "[encoded data removed]",
      "text/plain": [
       "<Figure size 720x72 with 10 Axes>"
      ]
     },
     "metadata": {
      "needs_background": "light"
     },
     "output_type": "display_data"
    }
   ],
   "source": [
    "# Dead C. elegans\n",
    "number=10\n",
    "inds=np.random.choice(len(complex_preshapes_dead)-1, size=number, replace=False)\n",
    "\n",
    "fig, ax = plt.subplots(1,number, figsize=(number,1))\n",
    "for i in range(number):\n",
    "    sample=complex_preshapes_dead[inds[i]]\n",
    "    ax[i].scatter(sample.real,sample.imag,s=1)\n",
    "    ax[i].set_title(inds[i])\n",
    "    ax[i].axis('off')"
   ]
  },
  {
   "cell_type": "code",
   "execution_count": 36,
   "id": "8b112ce2",
   "metadata": {},
   "outputs": [
    {
     "data": {
      "image/png": "[encoded data removed]",
      "text/plain": [
       "<Figure size 720x72 with 10 Axes>"
      ]
     },
     "metadata": {
      "needs_background": "light"
     },
     "output_type": "display_data"
    }
   ],
   "source": [
    "# Live C. elegans\n",
    "number=10\n",
    "inds=np.random.choice(len(complex_preshapes_live)-1, size=number, replace=False)\n",
    "\n",
    "fig, ax = plt.subplots(1,number, figsize=(number,1))\n",
    "for i in range(number):\n",
    "    sample=complex_preshapes_live[inds[i]]\n",
    "    ax[i].scatter(sample.real,sample.imag,s=1)\n",
    "    ax[i].axis('off')"
   ]
  },
  {
   "cell_type": "markdown",
   "id": "e23a3059",
   "metadata": {},
   "source": [
    "**4.3** Compute and visualize the Fréchet mean for each individual class, reusing the `meanFrechet` function from 2.2. How do they differ from what you got in 2.2?"
   ]
  },
  {
   "cell_type": "code",
   "execution_count": 37,
   "id": "193494d5",
   "metadata": {},
   "outputs": [
    {
     "data": {
      "image/png": "[encoded data removed]",
      "text/plain": [
       "<Figure size 432x288 with 2 Axes>"
      ]
     },
     "metadata": {
      "needs_background": "light"
     },
     "output_type": "display_data"
    }
   ],
   "source": [
    "# Solution:\n",
    "mean_shape_Frechet_dead=meanFrechet(complex_preshapes_dead)\n",
    "mean_shape_Frechet_live=meanFrechet(complex_preshapes_live)\n",
    "\n",
    "fig, ax = plt.subplots(1,2)\n",
    "\n",
    "ax[0].scatter(mean_shape_Frechet_dead.real,mean_shape_Frechet_dead.imag)\n",
    "ax[0].axis('off')\n",
    "\n",
    "ax[1].scatter(mean_shape_Frechet_live.real,mean_shape_Frechet_live.imag)\n",
    "ax[1].axis('off')\n",
    "\n",
    "plt.show()"
   ]
  },
  {
   "cell_type": "markdown",
   "id": "ef4dcd93",
   "metadata": {},
   "source": [
    "**4.4** For each class, perform PCA in the tangent plane around the Fréchet mean by adapting the code from 3.1."
   ]
  },
  {
   "cell_type": "code",
   "execution_count": 38,
   "id": "9e664207",
   "metadata": {},
   "outputs": [
    {
     "data": {
      "image/png": "[encoded data removed]",
      "text/plain": [
       "<Figure size 432x288 with 1 Axes>"
      ]
     },
     "metadata": {
      "needs_background": "light"
     },
     "output_type": "display_data"
    },
    {
     "data": {
      "image/png": "[encoded data removed]",
      "text/plain": [
       "<Figure size 432x288 with 1 Axes>"
      ]
     },
     "metadata": {
      "needs_background": "light"
     },
     "output_type": "display_data"
    }
   ],
   "source": [
    "# Solution:\n",
    "# Dead C. elegans\n",
    "tangent_vectors_dead=np.zeros((len(complex_preshapes_dead),2*N))\n",
    "for i in range(len(complex_preshapes_dead)):\n",
    "    tangent_vector_dead=logarithmMap(mean_shape_Frechet_dead, complex_preshapes_dead[i])\n",
    "    tangent_vectors_dead[i,:N]=tangent_vector_dead.real\n",
    "    tangent_vectors_dead[i,N:]=tangent_vector_dead.imag\n",
    "\n",
    "tangent_plane_pca_dead = PCA()\n",
    "transformed_vectors_dead = tangent_plane_pca_dead.fit_transform(tangent_vectors_dead)\n",
    "\n",
    "fig, ax = plt.subplots(1,1)\n",
    "ax.plot(np.linspace(1,tangent_plane_pca_dead.n_components_,tangent_plane_pca_dead.n_components_),tangent_plane_pca_dead.explained_variance_)\n",
    "ax.set_xlabel(\"Principal component\")\n",
    "ax.set_ylabel(\"Variance explained\")\n",
    "plt.show()\n",
    "\n",
    "# Live C. elegans\n",
    "tangent_vectors_live=np.zeros((len(complex_preshapes_live),2*N))\n",
    "for i in range(len(complex_preshapes_live)):\n",
    "    tangent_vector_live=logarithmMap(mean_shape_Frechet_live, complex_preshapes_live[i])\n",
    "    tangent_vectors_live[i,:N]=tangent_vector_live.real\n",
    "    tangent_vectors_live[i,N:]=tangent_vector_live.imag\n",
    "\n",
    "tangent_plane_pca_live = PCA()\n",
    "transformed_vectors_live = tangent_plane_pca_live.fit_transform(tangent_vectors_live)\n",
    "\n",
    "fig, ax = plt.subplots(1,1)\n",
    "ax.plot(np.linspace(1,tangent_plane_pca_live.n_components_,tangent_plane_pca_live.n_components_),tangent_plane_pca_live.explained_variance_)\n",
    "ax.set_xlabel(\"Principal component\")\n",
    "ax.set_ylabel(\"Variance explained\")\n",
    "plt.show()"
   ]
  },
  {
   "cell_type": "markdown",
   "id": "765555aa",
   "metadata": {},
   "source": [
    "**4.5** For each class, retreive the two first modes of shape variation and visualize them around the mean by adapting the code from 3.2. How do they differ from what you got in 3.2?"
   ]
  },
  {
   "cell_type": "code",
   "execution_count": 39,
   "id": "eb504996",
   "metadata": {},
   "outputs": [
    {
     "data": {
      "image/png": "[encoded data removed]",
      "text/plain": [
       "<Figure size 720x360 with 2 Axes>"
      ]
     },
     "metadata": {
      "needs_background": "light"
     },
     "output_type": "display_data"
    },
    {
     "data": {
      "image/png": "[encoded data removed]",
      "text/plain": [
       "<Figure size 720x360 with 2 Axes>"
      ]
     },
     "metadata": {
      "needs_background": "light"
     },
     "output_type": "display_data"
    }
   ],
   "source": [
    "# Solution:\n",
    "K=2\n",
    "\n",
    "# Dead C. elegans\n",
    "l_dead=np.sqrt(tangent_plane_pca_dead.explained_variance_)\n",
    "\n",
    "modes_shape_dead=np.zeros((K,2,N),dtype=np.complex)\n",
    "for i in range(K) :\n",
    "    vector=np.zeros(tangent_plane_pca_dead.n_components_)\n",
    "    vector[i]=1\n",
    "    mode=l_dead[i]*tangent_plane_pca_dead.inverse_transform(vector)\n",
    "    complex_mode=mode[:N]+1j*mode[N:]\n",
    "    modes_shape_dead[i][0]=exponentialMap(mean_shape_Frechet_dead, complex_mode)\n",
    "    modes_shape_dead[i][1]=exponentialMap(mean_shape_Frechet_dead, -complex_mode)\n",
    "    \n",
    "fig, ax = plt.subplots(1, K, figsize=(5*K,5))\n",
    "for i in range(K):\n",
    "    ax[i].scatter(mean_shape_Frechet_dead.real,mean_shape_Frechet_dead.imag)\n",
    "    ax[i].scatter(modes_shape_dead[i][0].real, modes_shape_dead[i][0].imag)\n",
    "    ax[i].scatter(modes_shape_dead[i][1].real, modes_shape_dead[i][1].imag)\n",
    "    ax[i].axis(\"off\")\n",
    "    \n",
    "    percent_variance_dead=np.round(100*l_dead[i]**2/np.sum(tangent_plane_pca_dead.explained_variance_))\n",
    "    ax[i].set_title(\"Mode \"+str(i+1)+\", \"+str(percent_variance_dead)+\"% of variance.\")\n",
    "    \n",
    "# Live C. elegans   \n",
    "l_live=np.sqrt(tangent_plane_pca_live.explained_variance_)\n",
    "\n",
    "modes_shape_live=np.zeros((K,2,N),dtype=np.complex)\n",
    "for i in range(K) :\n",
    "    vector=np.zeros(tangent_plane_pca_live.n_components_)\n",
    "    vector[i]=1\n",
    "    mode=l_live[i]*tangent_plane_pca_live.inverse_transform(vector)\n",
    "    complex_mode=mode[:N]+1j*mode[N:]\n",
    "    modes_shape_live[i][0]=exponentialMap(mean_shape_Frechet_live, complex_mode)\n",
    "    modes_shape_live[i][1]=exponentialMap(mean_shape_Frechet_live, -complex_mode)\n",
    "    \n",
    "fig, ax = plt.subplots(1, K, figsize=(5*K,5))\n",
    "for i in range(K):\n",
    "    ax[i].scatter(mean_shape_Frechet.real,mean_shape_Frechet_live.imag)\n",
    "    ax[i].scatter(modes_shape_live[i][0].real, modes_shape_live[i][0].imag)\n",
    "    ax[i].scatter(modes_shape_live[i][1].real, modes_shape_live[i][1].imag)\n",
    "    ax[i].axis(\"off\")\n",
    "    \n",
    "    percent_variance_live=np.round(100*l_live[i]**2/np.sum(tangent_plane_pca_live.explained_variance_))\n",
    "    ax[i].set_title(\"Mode \"+str(i+1)+\", \"+str(percent_variance_live)+\"% of variance.\")"
   ]
  },
  {
   "cell_type": "markdown",
   "id": "3380832a",
   "metadata": {},
   "source": [
    "**4.6** The lines below plot the PCA-transformed data around the Fréchet mean for each class. How does it compare to 3.3?"
   ]
  },
  {
   "cell_type": "code",
   "execution_count": 40,
   "id": "60b8f566",
   "metadata": {},
   "outputs": [
    {
     "data": {
      "image/png": "[encoded data removed]",
      "text/plain": [
       "<Figure size 432x288 with 2 Axes>"
      ]
     },
     "metadata": {
      "needs_background": "light"
     },
     "output_type": "display_data"
    }
   ],
   "source": [
    "fig, ax = plt.subplots(1,2)\n",
    "\n",
    "ax[0].scatter(transformed_vectors_dead[:,0], transformed_vectors_dead[:,1], c=\"g\")\n",
    "ax[0].scatter([0],[0], c=\"r\")\n",
    "ax[0].scatter([l_dead[0],-l_dead[0]], [0.,0.],c=\"blue\")\n",
    "ax[0].scatter([0.,0.],[l_dead[1],-l_dead[1]],c=\"cyan\")\n",
    "ax[0].axis(\"equal\")\n",
    "ax[0].set_title(\"Dead\")\n",
    "\n",
    "ax[1].scatter(transformed_vectors_live[:,0], transformed_vectors_live[:,1], c=\"g\")\n",
    "ax[1].scatter([0],[0], c=\"r\")\n",
    "ax[1].scatter([l_live[0],-l_live[0]], [0.,0.],c=\"blue\")\n",
    "ax[1].scatter([0.,0.],[l_live[1],-l_live[1]],c=\"cyan\")\n",
    "ax[1].axis(\"equal\")\n",
    "ax[1].set_title(\"Live\")\n",
    "\n",
    "plt.suptitle(\"PCA plot around the Fréchet mean\")\n",
    "plt.show()"
   ]
  },
  {
   "cell_type": "markdown",
   "id": "f9c026e1",
   "metadata": {},
   "source": [
    "### 5. Statistical shape modelling"
   ]
  },
  {
   "cell_type": "markdown",
   "id": "5f1f4fd9",
   "metadata": {},
   "source": [
    "**5.1** The following lines generate synthetic live C. elegans shapes relying on a simple statistical model (multivariate Gaussian) built from the covariance matrix of the dataset. Do you understand how the model is constructed? How good do you think this model is and why?"
   ]
  },
  {
   "cell_type": "code",
   "execution_count": 41,
   "id": "46ff2e7a",
   "metadata": {},
   "outputs": [],
   "source": [
    "import scipy.stats"
   ]
  },
  {
   "cell_type": "code",
   "execution_count": 42,
   "id": "0117bb1e",
   "metadata": {},
   "outputs": [],
   "source": [
    "count=2\n",
    "num_synthetic_data=10"
   ]
  },
  {
   "cell_type": "code",
   "execution_count": 43,
   "id": "7747efe5",
   "metadata": {},
   "outputs": [
    {
     "data": {
      "image/png": "[encoded data removed]",
      "text/plain": [
       "<Figure size 720x72 with 10 Axes>"
      ]
     },
     "metadata": {
      "needs_background": "light"
     },
     "output_type": "display_data"
    }
   ],
   "source": [
    "# Live C. elegans\n",
    "synthetic_data_live=np.zeros((num_synthetic_data,N),dtype=np.complex)\n",
    "for i in range(num_synthetic_data):\n",
    "    rand=[]\n",
    "    for k in range(tangent_plane_pca_live.n_components_):\n",
    "        var=tangent_plane_pca_live.explained_variance_[k]*(len(tangent_vectors_live)-1)\n",
    "        if var<1e-6:\n",
    "            sigma=0.0\n",
    "        else:\n",
    "            sigma=np.sqrt(var)\n",
    "        rand.append(scipy.stats.norm.rvs(loc=0, scale=sigma, size=1))\n",
    "    rand=np.array(rand)\n",
    "\n",
    "    v=np.zeros((tangent_plane_pca_live.n_components_))\n",
    "    for k in range(count):\n",
    "        zz=rand.T @ tangent_plane_pca_live.components_.T[:,k]\n",
    "        v+=(zz*tangent_plane_pca_live.components_.T[:,k])+tangent_plane_pca_live.mean_\n",
    "    \n",
    "    complex_v=v[:N]+1j*v[N:]\n",
    "    synthetic_data_live[i]=exponentialMap(mean_shape_Frechet_live, complex_v) \n",
    "    \n",
    "fig, ax = plt.subplots(1, num_synthetic_data, figsize=(num_synthetic_data,1))\n",
    "for i in range(num_synthetic_data):\n",
    "    ax[i].scatter(synthetic_data_live[i].real, synthetic_data_live[i].imag, s=5)\n",
    "    ax[i].axis(\"off\")"
   ]
  },
  {
   "cell_type": "code",
   "execution_count": null,
   "id": "e8e960bc",
   "metadata": {},
   "outputs": [],
   "source": []
  }
 ],
 "metadata": {
  "kernelspec": {
   "display_name": "Python 3",
   "language": "python",
   "name": "python3"
  },
  "language_info": {
   "codemirror_mode": {
    "name": "ipython",
    "version": 3
   },
   "file_extension": ".py",
   "mimetype": "text/x-python",
   "name": "python",
   "nbconvert_exporter": "python",
   "pygments_lexer": "ipython3",
   "version": "3.7.3"
  }
 },
 "nbformat": 4,
 "nbformat_minor": 5
}
