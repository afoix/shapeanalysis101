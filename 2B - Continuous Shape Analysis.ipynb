{
 "cells": [
  {
   "cell_type": "markdown",
   "id": "6f1d76aa",
   "metadata": {},
   "source": [
    "## Part 2B: Continuous shape analysis"
   ]
  },
  {
   "cell_type": "markdown",
   "id": "a9411283",
   "metadata": {},
   "source": [
    "In this notebook, we will learn the basics of shape analysis on parametric spline curves."
   ]
  },
  {
   "cell_type": "code",
   "execution_count": 1,
   "id": "b992dfc0",
   "metadata": {},
   "outputs": [],
   "source": [
    "import os\n",
    "import numpy as np\n",
    "import matplotlib.pyplot as plt"
   ]
  },
  {
   "cell_type": "markdown",
   "id": "9dfa51f2",
   "metadata": {},
   "source": [
    "### 0. Data loading"
   ]
  },
  {
   "cell_type": "markdown",
   "id": "587b6e99",
   "metadata": {},
   "source": [
    "**0.1** Run the lines below to load the object models dataset."
   ]
  },
  {
   "cell_type": "code",
   "execution_count": null,
   "id": "93cf8c0a",
   "metadata": {},
   "outputs": [],
   "source": [
    "# BBBC010\n",
    "directory = 'data/BBBC010/masks'\n",
    "point_models=np.load(os.path.join(directory,'spline_models.npy'))"
   ]
  },
  {
   "cell_type": "markdown",
   "id": "2205f645",
   "metadata": {},
   "source": [
    "**0.2** Visualize a set of a few randomly selected models from the collection."
   ]
  },
  {
   "cell_type": "code",
   "execution_count": null,
   "id": "c4fc5c71",
   "metadata": {},
   "outputs": [],
   "source": []
  }
 ],
 "metadata": {
  "kernelspec": {
   "display_name": "Python 3",
   "language": "python",
   "name": "python3"
  },
  "language_info": {
   "codemirror_mode": {
    "name": "ipython",
    "version": 3
   },
   "file_extension": ".py",
   "mimetype": "text/x-python",
   "name": "python",
   "nbconvert_exporter": "python",
   "pygments_lexer": "ipython3",
   "version": "3.7.3"
  }
 },
 "nbformat": 4,
 "nbformat_minor": 5
}
