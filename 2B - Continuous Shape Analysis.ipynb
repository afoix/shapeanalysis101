{
 "cells": [
  {
   "cell_type": "markdown",
   "id": "9bade120",
   "metadata": {},
   "source": [
    "## Part 2B: Continuous shape analysis"
   ]
  },
  {
   "cell_type": "markdown",
   "id": "4409b869",
   "metadata": {},
   "source": [
    "In this notebook, we will learn the basics of shape analysis on parametric spline curves."
   ]
  },
  {
   "cell_type": "code",
   "execution_count": null,
   "id": "5d43dbbf",
   "metadata": {},
   "outputs": [],
   "source": [
    "import os\n",
    "import numpy as np\n",
    "import matplotlib.pyplot as plt\n",
    "import matplotlib.cm as cm\n",
    "from spline_models.spline_curve_model import B3_spline_curve\n",
    "from spline_models.spline_shape_space import B3_shape_space\n",
    "from spline_models.spline_shape_space import B3_PCA"
   ]
  },
  {
   "cell_type": "markdown",
   "id": "047448e0",
   "metadata": {},
   "source": [
    "### 0. Data loading"
   ]
  },
  {
   "cell_type": "markdown",
   "id": "478bac50",
   "metadata": {},
   "source": [
    "**0.1** Run the lines below to load spline-based object models of objects in the C. elegans dataset."
   ]
  },
  {
   "cell_type": "code",
   "execution_count": null,
   "id": "356f58b6",
   "metadata": {},
   "outputs": [],
   "source": [
    "dataset='data/C. elegans/spline_models.npy'\n",
    "spline_models=np.load(dataset, allow_pickle=True)"
   ]
  },
  {
   "cell_type": "code",
   "execution_count": null,
   "id": "1ce9df86",
   "metadata": {},
   "outputs": [],
   "source": [
    "# The number of parameters in our spline models is important for the shape space construction\n",
    "M=spline_models[0].M\n",
    "print(\"M=\"+str(M))\n",
    "\n",
    "# The nature of the spline curve (open or closed) is important for the shape space construction\n",
    "closed_curve=spline_models[0].closed\n",
    "print(\"Closed curve? \"+str(closed_curve))"
   ]
  },
  {
   "cell_type": "markdown",
   "id": "d3c7ce21",
   "metadata": {},
   "source": [
    "**0.2** Run the lines below to visualize a set of a few randomly selected models from the collection."
   ]
  },
  {
   "cell_type": "code",
   "execution_count": null,
   "id": "e80e9bce",
   "metadata": {},
   "outputs": [],
   "source": [
    "number=10\n",
    "inds=np.random.choice(len(spline_models)-1, size=number, replace=False)\n",
    "\n",
    "fig, ax = plt.subplots(1,number, figsize=(number,1))\n",
    "for i in range(number):\n",
    "    spline_model=spline_models[i]\n",
    "    spline_model_points=spline_model.sample(1000)\n",
    "    ax[i].scatter(spline_model_points[:,0],spline_model_points[:,1],s=.2)\n",
    "    ax[i].axis('off')"
   ]
  },
  {
   "cell_type": "markdown",
   "id": "fb888c64",
   "metadata": {},
   "source": [
    "**0.3** Spline models are continuously-defined objects. In order to draw them with the usual ``scatter`` function from matplotlib, we can draw as many sample points along the model as we like. The function below will be used to draw open cubic B-spline curves of ``M`` points from a vector of 2D coefficients, represented in complex number notation."
   ]
  },
  {
   "cell_type": "code",
   "execution_count": null,
   "id": "4346ddac",
   "metadata": {},
   "outputs": [],
   "source": [
    "def draw_spline_model(complex_spline_parameters):\n",
    "    spline_model=B3_spline_curve(M, closed_curve)\n",
    "    \n",
    "    spline_parameters=np.zeros((len(complex_spline_parameters),2))\n",
    "    spline_parameters[:,0]=complex_spline_parameters.real\n",
    "    spline_parameters[:,1]=complex_spline_parameters.imag\n",
    "    spline_model.coefs=spline_parameters\n",
    "    \n",
    "    spline_model_points=spline_model.sample(1000)\n",
    "    return spline_model_points"
   ]
  },
  {
   "cell_type": "markdown",
   "id": "c8a8629f",
   "metadata": {},
   "source": [
    "### 1. Continuous Kendall shape space"
   ]
  },
  {
   "cell_type": "markdown",
   "id": "db7d4362",
   "metadata": {},
   "source": [
    "**1.1** To build a continuous shape space of spline curves, we will again rely on the complex representation introduced in 2A - 1.3. Run the lines below to convert each vectors of spline parameters into complex numbers."
   ]
  },
  {
   "cell_type": "code",
   "execution_count": null,
   "id": "ecdc1158",
   "metadata": {},
   "outputs": [],
   "source": [
    "# Retrieves vectors of spline parameters\n",
    "spline_parameters=[]\n",
    "for spline_model in spline_models:\n",
    "    spline_parameters.append(spline_model.coefs)\n",
    "spline_parameters=np.array(spline_parameters)"
   ]
  },
  {
   "cell_type": "code",
   "execution_count": null,
   "id": "cce1d2c1",
   "metadata": {},
   "outputs": [],
   "source": [
    "# Converts them all to complex numbers\n",
    "complex_spline_parameters=spline_parameters[:,:,0] + 1j*spline_parameters[:,:,1]"
   ]
  },
  {
   "cell_type": "markdown",
   "id": "50c4cdc1",
   "metadata": {},
   "source": [
    "**1.2** The module ``spline_shape_space`` constructs the shape space of open cubic B-splines of ``M`` parameters following [1]. As in the case of point-based models, the first thing to do is center and normalize the objects, turning them into preshapes.\n",
    "\n",
    "[1] Song, A., Uhlmann, V., Fageot, J., & Unser, M. (2020). Dictionary learning for two-dimensional Kendall shapes. SIAM Journal on Imaging Sciences, 13(1), 141-175."
   ]
  },
  {
   "cell_type": "code",
   "execution_count": null,
   "id": "f6fe5e38",
   "metadata": {},
   "outputs": [],
   "source": [
    "# Creates the shape space structure for open cubic B-spline curves of M parameters\n",
    "shape_space=B3_shape_space(M, closed_curve)"
   ]
  },
  {
   "cell_type": "code",
   "execution_count": null,
   "id": "0ee78596",
   "metadata": {},
   "outputs": [],
   "source": [
    "# Centers and normalizes (=preshapes) the object models\n",
    "complex_spline_preshapes=shape_space.preshapeDataset(complex_spline_parameters)"
   ]
  },
  {
   "cell_type": "markdown",
   "id": "36a65ddb",
   "metadata": {},
   "source": [
    "**1.3** The optimal alignment problem can be solved in a similar manner as in the point-based model case. To convince yourself of it, compare the function ``theta`` of ``B3_shape_space`` with the code from 2A - 1.4."
   ]
  },
  {
   "cell_type": "code",
   "execution_count": null,
   "id": "de2ab0cc",
   "metadata": {},
   "outputs": [],
   "source": [
    "# Picks two random models - reload if you are not happy with the selection :)\n",
    "random=np.random.choice(len(complex_spline_preshapes)-1, size=2, replace=False)\n",
    "\n",
    "sample_preshape_1=complex_spline_preshapes[random[0]]\n",
    "sample_preshape_2=complex_spline_preshapes[random[1]]\n",
    "\n",
    "sample_preshape_1_points=draw_spline_model(sample_preshape_1)\n",
    "plt.scatter(sample_preshape_1_points[:,0],sample_preshape_1_points[:,1])\n",
    "\n",
    "sample_preshape_2_points=draw_spline_model(sample_preshape_2)\n",
    "plt.scatter(sample_preshape_2_points[:,0],sample_preshape_2_points[:,1])\n",
    "plt.axis('off')\n",
    "plt.show()"
   ]
  },
  {
   "cell_type": "code",
   "execution_count": null,
   "id": "1a956da7",
   "metadata": {},
   "outputs": [],
   "source": [
    "# Aligns the second shape onto the first one and displays the result\n",
    "aligned=shape_space.align(sample_preshape_2,sample_preshape_1)\n",
    "\n",
    "plt.scatter(sample_preshape_1_points[:,0],sample_preshape_1_points[:,1])\n",
    "\n",
    "aligned_points=draw_spline_model(aligned)\n",
    "plt.scatter(aligned_points[:,0],aligned_points[:,1])\n",
    "plt.axis('off')\n",
    "plt.show()"
   ]
  },
  {
   "cell_type": "markdown",
   "id": "33b4065c",
   "metadata": {},
   "source": [
    "**1.4** The function below computes the Fréchet mean of the spline-based model collection. \n",
    "\n",
    "You will notice that it looks very similar to what you obtained in 2A - 2.2 (which is reassuring!). It also highlights the strength of spline-based models: we are working with continuous curves (i.e., infinitely more points than in 2A), but we only need ``M=6`` complex numbers to do so (i.e., twice less than in 2A, where ``N=12``)."
   ]
  },
  {
   "cell_type": "code",
   "execution_count": null,
   "id": "c2944a8a",
   "metadata": {},
   "outputs": [],
   "source": [
    "mean_shape_Frechet=shape_space.meanFrechet(complex_spline_preshapes)\n",
    "\n",
    "mean_shape_Frechet_points=draw_spline_model(mean_shape_Frechet)\n",
    "plt.scatter(mean_shape_Frechet_points[:,0],mean_shape_Frechet_points[:,1])\n",
    "plt.axis('off')\n",
    "plt.show()"
   ]
  },
  {
   "cell_type": "markdown",
   "id": "ff7b35ea",
   "metadata": {},
   "source": [
    "**1.5** The various distances we saw in 2A can also be defined in the spline shape space. The lines below compute the geodesic path between a randomly picked shape in the dataset and the Fréchet mean, and visualize elements along the path."
   ]
  },
  {
   "cell_type": "code",
   "execution_count": null,
   "id": "0702ebc8",
   "metadata": {},
   "outputs": [],
   "source": [
    "# Picks one random complex preshape and visualize it with the Fréchet mean - reload if you are not happy with the selection :)\n",
    "random=np.random.choice(len(complex_spline_preshapes)-1, size=1, replace=False)[0]\n",
    "sample_preshape=complex_spline_preshapes[random]\n",
    "\n",
    "plt.scatter(mean_shape_Frechet_points[:,0],mean_shape_Frechet_points[:,1])\n",
    "\n",
    "sample_preshape_points=draw_spline_model(sample_preshape)\n",
    "plt.scatter(sample_preshape_points[:,0],sample_preshape_points[:,1])\n",
    "plt.axis('off')\n",
    "plt.show()"
   ]
  },
  {
   "cell_type": "code",
   "execution_count": null,
   "id": "ce502194",
   "metadata": {},
   "outputs": [],
   "source": [
    "# Computes N steps along the geodesic path\n",
    "steps=10\n",
    "path=shape_space.geodesicPath(mean_shape_Frechet,sample_preshape,steps)\n",
    "\n",
    "fig, ax = plt.subplots(1,steps, figsize=(steps,1))\n",
    "colors = cm.RdYlBu(np.linspace(0.9, 0.1, len(path)))\n",
    "for i in range(steps):\n",
    "    path_points=draw_spline_model(path[i])\n",
    "    ax[i].scatter(path_points[:,0],path_points[:,1], s=.5, color=colors[i])\n",
    "    ax[i].axis('off')"
   ]
  },
  {
   "cell_type": "markdown",
   "id": "36bd070e",
   "metadata": {},
   "source": [
    "### 2. Continuous shape space PCA on the whole dataset"
   ]
  },
  {
   "cell_type": "markdown",
   "id": "2f115e1e",
   "metadata": {},
   "source": [
    "**2.1** The lines below perform PCA in the tangent plane around the Fréchet mean using the logarithmic and exponential maps appropriately and displays the explained variance. Do you see any difference with respect to 2A - 3.1?"
   ]
  },
  {
   "cell_type": "code",
   "execution_count": null,
   "id": "0b067b75",
   "metadata": {},
   "outputs": [],
   "source": [
    "tangent_vectors=np.zeros(complex_spline_preshapes.shape, dtype=complex)\n",
    "for i in range(len(complex_spline_preshapes)):\n",
    "    tangent_vectors[i]=shape_space.log(mean_shape_Frechet, complex_spline_preshapes[i])\n",
    "\n",
    "tangent_plane_pca = B3_PCA(M, closed_curve, mean_shape_Frechet)\n",
    "tangent_plane_pca.fit(tangent_vectors)\n",
    "    \n",
    "plt.plot(np.linspace(1,len(tangent_plane_pca.diag),len(tangent_plane_pca.diag)),100*tangent_plane_pca.diag/np.sum(tangent_plane_pca.diag))\n",
    "plt.xlabel(\"Principal component\")\n",
    "plt.ylabel(\"Variance explained\")\n",
    "plt.show()"
   ]
  },
  {
   "cell_type": "markdown",
   "id": "72b5dce8",
   "metadata": {},
   "source": [
    "**2.2** The lines below retreive the four first modes of shape variation and visualize them around the mean. Do you see any difference with respect to 2A - 3.2?"
   ]
  },
  {
   "cell_type": "code",
   "execution_count": null,
   "id": "4c8e822c",
   "metadata": {},
   "outputs": [],
   "source": [
    "K=4\n",
    "\n",
    "pcWeights=np.zeros((K,2*tangent_plane_pca.M))\n",
    "for i in range(K):\n",
    "    pcWeights[i]=tangent_plane_pca.project(tangent_vectors[i])\n",
    "\n",
    "modes_shape=np.zeros((K,2,tangent_plane_pca.M),dtype=np.complex)\n",
    "for i in range(K):\n",
    "    mode=np.std(pcWeights[:,i])*np.sqrt(tangent_plane_pca.diag[i])*tangent_plane_pca.complexPC[:,i]\n",
    "    modes_shape[i][0]=shape_space.exponentialMap(mean_shape_Frechet, mode)\n",
    "    modes_shape[i][1]=shape_space.exponentialMap(mean_shape_Frechet, -mode)\n",
    "    \n",
    "fig, ax = plt.subplots(1, K, figsize=(5*K,5))\n",
    "for i in range(K):\n",
    "    ax[i].scatter(mean_shape_Frechet_points[:,0],mean_shape_Frechet_points[:,1])\n",
    "    \n",
    "    modes_shape_0_points=draw_spline_model(modes_shape[i][0])\n",
    "    ax[i].scatter(modes_shape_0_points[:,0],modes_shape_0_points[:,1])\n",
    "    \n",
    "    modes_shape_1_points=draw_spline_model(modes_shape[i][1])\n",
    "    ax[i].scatter(modes_shape_1_points[:,0],modes_shape_1_points[:,1])\n",
    "    ax[i].axis(\"off\")\n",
    "    \n",
    "    percent_variance=np.round(100*tangent_plane_pca.diag[i]/np.sum(tangent_plane_pca.diag))\n",
    "    ax[i].set_title(\"Mode \"+str(i+1)+\", \"+str(percent_variance)+\"% of variance.\")"
   ]
  },
  {
   "cell_type": "markdown",
   "id": "455bfb7c",
   "metadata": {},
   "source": [
    "### 3. Continuous shape space PCA on classes"
   ]
  },
  {
   "cell_type": "markdown",
   "id": "a1a6627d",
   "metadata": {},
   "source": [
    "We actually know that the shape distribution is bimodal, because there are dead and alive worms. To have a clearer picture of shape variability, we can thus carry out shape PCA on each class individually."
   ]
  },
  {
   "cell_type": "markdown",
   "id": "8b1dd827",
   "metadata": {},
   "source": [
    "**3.1** Run the lines below to split the dataset into a collection of alive and a collection of dead C. elegans samples.  "
   ]
  },
  {
   "cell_type": "code",
   "execution_count": null,
   "id": "d8d64218",
   "metadata": {},
   "outputs": [],
   "source": [
    "label_data='data/C. elegans/labels.npy'\n",
    "labels=np.load(label_data)"
   ]
  },
  {
   "cell_type": "code",
   "execution_count": null,
   "id": "aab4821a",
   "metadata": {},
   "outputs": [],
   "source": [
    "complex_spline_preshapes_dead=complex_spline_preshapes[np.where(labels==0)]\n",
    "complex_spline_preshapes_live=complex_spline_preshapes[np.where(labels==1)]"
   ]
  },
  {
   "cell_type": "markdown",
   "id": "267eeee9",
   "metadata": {},
   "source": [
    "**3.2** Run the lines below to visualize a set of a few randomly selected models from each collection."
   ]
  },
  {
   "cell_type": "code",
   "execution_count": null,
   "id": "53c5b70f",
   "metadata": {},
   "outputs": [],
   "source": [
    "# Dead C. elegans\n",
    "number=10\n",
    "inds=np.random.choice(len(complex_spline_preshapes_dead)-1, size=number, replace=False)\n",
    "\n",
    "fig, ax = plt.subplots(1,number, figsize=(number,1))\n",
    "for i in range(number):\n",
    "    sample_points=draw_spline_model(complex_spline_preshapes_dead[inds[i]])\n",
    "    ax[i].scatter(sample_points[:,0],sample_points[:,1],s=1)\n",
    "    ax[i].set_title(inds[i])\n",
    "    ax[i].axis('off')"
   ]
  },
  {
   "cell_type": "code",
   "execution_count": null,
   "id": "dfa33503",
   "metadata": {},
   "outputs": [],
   "source": [
    "# Live C. elegans\n",
    "number=10\n",
    "inds=np.random.choice(len(complex_spline_preshapes_live)-1, size=number, replace=False)\n",
    "\n",
    "fig, ax = plt.subplots(1,number, figsize=(number,1))\n",
    "for i in range(number):\n",
    "    sample_points=draw_spline_model(complex_spline_preshapes_live[inds[i]])\n",
    "    ax[i].scatter(sample_points[:,0],sample_points[:,1],s=1)\n",
    "    ax[i].set_title(inds[i])\n",
    "    ax[i].axis('off')"
   ]
  },
  {
   "cell_type": "markdown",
   "id": "1123097d",
   "metadata": {},
   "source": [
    "**3.3** Compute and visualize the Fréchet mean for each individual class, adapting the code from 1.3. How do they differ from what you got in 1.3?"
   ]
  },
  {
   "cell_type": "code",
   "execution_count": null,
   "id": "7b6ae049",
   "metadata": {},
   "outputs": [],
   "source": [
    "# Desired output: mean_shape_Frechet_dead and mean_shape_Frechet_live arrays, and scatter plots to visualize them\n",
    "# Add your code here!\n",
    "mean_shape_Frechet_parameters_dead=\n",
    "mean_shape_Frechet_parameters_live="
   ]
  },
  {
   "cell_type": "markdown",
   "id": "ebe62299",
   "metadata": {},
   "source": [
    "**3.4** For each class, perform continuous shape PCA by adapting the code from 2.1."
   ]
  },
  {
   "cell_type": "code",
   "execution_count": null,
   "id": "acb085db",
   "metadata": {},
   "outputs": [],
   "source": [
    "# Desired output: continuous tangent plane PCA as in 2.1 for complex_spline_preshapes_dead around mean_shape_Frechet_dead (tangent_plane_pca_dead) \n",
    "# and complex_spline_preshapes_live around mean_shape_Frechet_live (tangent_plane_pca_live)\n",
    "# Add your code here!\n",
    "tangent_plane_pca_dead =\n",
    "tangent_plane_pca_live ="
   ]
  },
  {
   "cell_type": "markdown",
   "id": "69b0e5c5",
   "metadata": {},
   "source": [
    "**3.5** For each class, retreive the two first modes of shape variation and visualize them around the mean by adapting the code from 2.2. How do they differ from what you got in 2.2? And from what you got in 2A - 4.5?"
   ]
  },
  {
   "cell_type": "code",
   "execution_count": null,
   "id": "c8e1f6c2",
   "metadata": {},
   "outputs": [],
   "source": [
    "# Desired output: mode visualisation as in 3.2 for tangent_plane_pca_dead (modes_shape_dead) and \n",
    "# tangent_plane_pca_alive (modes_shape_alive)\n",
    "# Add your code here!\n",
    "modes_shape_dead=\n",
    "modes_shape_live="
   ]
  },
  {
   "cell_type": "markdown",
   "id": "ed48f6f7",
   "metadata": {},
   "source": [
    "### 4. Statistical shape modelling with spline curves"
   ]
  },
  {
   "cell_type": "markdown",
   "id": "0845f23c",
   "metadata": {},
   "source": [
    "**4.1** The following lines generate synthetic live C. elegans shapes relying on a simple statistical model (multivariate Gaussian) built from the covariance matrix of the dataset. How does it compare to the model considered in 2A - 5.1?"
   ]
  },
  {
   "cell_type": "code",
   "execution_count": null,
   "id": "76bcb8ce",
   "metadata": {},
   "outputs": [],
   "source": [
    "import scipy.linalg\n",
    "import scipy.stats"
   ]
  },
  {
   "cell_type": "code",
   "execution_count": null,
   "id": "2bd30149",
   "metadata": {},
   "outputs": [],
   "source": [
    "count=3\n",
    "num_synthetic_data=10"
   ]
  },
  {
   "cell_type": "code",
   "execution_count": null,
   "id": "1eef0a9f",
   "metadata": {},
   "outputs": [],
   "source": [
    "# Live C. elegans\n",
    "synthetic_data_live=np.zeros((num_synthetic_data,tangent_plane_pca_live.M),dtype=np.complex)\n",
    "for i in range(num_synthetic_data):\n",
    "    rand=[]\n",
    "    for k in range(len(tangent_plane_pca_live.diag)):\n",
    "        var=tangent_plane_pca_live.diag[k]\n",
    "        if var<1e-6:\n",
    "            sigma=0.0\n",
    "        else:\n",
    "            sigma=np.sqrt(var)\n",
    "        rand.append(scipy.stats.norm.rvs(loc=0, scale=sigma, size=1))\n",
    "    rand=np.array(rand)\n",
    "\n",
    "    v=np.zeros((tangent_plane_pca_live.M), dtype=complex)\n",
    "    for k in range(count):\n",
    "        zz = rand.T @ scipy.linalg.sqrtm(tangent_plane_pca_live.Psi)\n",
    "        z = zz @ tangent_plane_pca_live.pcPhi[:,k]\n",
    "        v+=(z*tangent_plane_pca_live.complexPC[:,k])\n",
    "    \n",
    "    synthetic_data_live[i]=shape_space.exponentialMap(mean_shape_Frechet_live, v)\n",
    "    \n",
    "fig, ax = plt.subplots(1, num_synthetic_data, figsize=(num_synthetic_data,1))\n",
    "for i in range(num_synthetic_data):\n",
    "    synthetic_data_live_points=draw_spline_model(synthetic_data_live[i])\n",
    "    ax[i].scatter(synthetic_data_live_points[:,0],synthetic_data_live_points[:,1],s=.5)\n",
    "    ax[i].axis(\"off\")"
   ]
  },
  {
   "cell_type": "code",
   "execution_count": null,
   "id": "e96fa88d",
   "metadata": {},
   "outputs": [],
   "source": []
  }
 ],
 "metadata": {
  "kernelspec": {
   "display_name": "Python 3",
   "language": "python",
   "name": "python3"
  },
  "language_info": {
   "codemirror_mode": {
    "name": "ipython",
    "version": 3
   },
   "file_extension": ".py",
   "mimetype": "text/x-python",
   "name": "python",
   "nbconvert_exporter": "python",
   "pygments_lexer": "ipython3",
   "version": "3.7.3"
  }
 },
 "nbformat": 4,
 "nbformat_minor": 5
}
