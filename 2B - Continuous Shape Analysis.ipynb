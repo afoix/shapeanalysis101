{
 "cells": [
  {
   "cell_type": "markdown",
   "id": "6f1d76aa",
   "metadata": {},
   "source": [
    "## Part 2B: Continuous shape analysis"
   ]
  },
  {
   "cell_type": "markdown",
   "id": "a9411283",
   "metadata": {},
   "source": [
    "In this notebook, we will learn the basics of shape analysis on parametric spline curves."
   ]
  },
  {
   "cell_type": "code",
   "execution_count": 9,
   "id": "b992dfc0",
   "metadata": {},
   "outputs": [],
   "source": [
    "import os\n",
    "import numpy as np\n",
    "import matplotlib.pyplot as plt\n",
    "from spline_models.spline_curve_model import spline_curve"
   ]
  },
  {
   "cell_type": "markdown",
   "id": "9dfa51f2",
   "metadata": {},
   "source": [
    "### 0. Data loading"
   ]
  },
  {
   "cell_type": "markdown",
   "id": "587b6e99",
   "metadata": {},
   "source": [
    "**0.1** Run the lines below to load spline-based object models of objects in the C. elegans dataset."
   ]
  },
  {
   "cell_type": "code",
   "execution_count": 3,
   "id": "93cf8c0a",
   "metadata": {},
   "outputs": [],
   "source": [
    "dataset='data/BBBC010/masks/spline_models.npy'\n",
    "spline_models=np.load(dataset)"
   ]
  },
  {
   "cell_type": "code",
   "execution_count": 6,
   "id": "024589ee",
   "metadata": {},
   "outputs": [],
   "source": [
    "# The number of parameters in our spline model is an important parameter\n",
    "M=spline_models.shape[1]-4"
   ]
  },
  {
   "cell_type": "markdown",
   "id": "2205f645",
   "metadata": {},
   "source": [
    "**0.2** Run the lines below to visualize a set of a few randomly selected models from the collection."
   ]
  },
  {
   "cell_type": "code",
   "execution_count": 11,
   "id": "c4fc5c71",
   "metadata": {},
   "outputs": [
    {
     "data": {
      "image/png": "[encoded data removed]",
      "text/plain": [
       "<Figure size 720x72 with 10 Axes>"
      ]
     },
     "metadata": {
      "needs_background": "light"
     },
     "output_type": "display_data"
    }
   ],
   "source": [
    "number=10\n",
    "inds=np.random.choice(len(spline_models)-1, size=number, replace=False)\n",
    "\n",
    "fig, ax = plt.subplots(1,number, figsize=(number,1))\n",
    "for i in range(number):\n",
    "    spline_model=spline_curve(M, False)\n",
    "    spline_model.coefs=spline_models[i]\n",
    "    \n",
    "    spline_model_points=spline_model.sample(1000)\n",
    "    ax[i].scatter(spline_model_points[:,0],spline_model_points[:,1],s=.2)\n",
    "    ax[i].axis('off')"
   ]
  },
  {
   "cell_type": "markdown",
   "id": "85c07197",
   "metadata": {},
   "source": [
    "### 1. Continuous Kendall shape space"
   ]
  },
  {
   "cell_type": "markdown",
   "id": "9bffeb1c",
   "metadata": {},
   "source": [
    "**1.1** To build a continuous shape space of spline curves, we will again rely on the complex representation introduced in 2A - 1.3. Run the lines below to convert the vectors of spline parameters into complex numbers."
   ]
  },
  {
   "cell_type": "code",
   "execution_count": null,
   "id": "a09e029e",
   "metadata": {},
   "outputs": [],
   "source": []
  },
  {
   "cell_type": "markdown",
   "id": "4584d8fe",
   "metadata": {},
   "source": [
    "**1.2** The normalization step is slightly more complicated in the case of parametric curves. "
   ]
  },
  {
   "cell_type": "code",
   "execution_count": null,
   "id": "cbc1ae48",
   "metadata": {},
   "outputs": [],
   "source": []
  },
  {
   "cell_type": "markdown",
   "id": "ee4f18a1",
   "metadata": {},
   "source": [
    "**1.3** The function below computes the Fréchet mean of the spline curve dataset."
   ]
  },
  {
   "cell_type": "code",
   "execution_count": null,
   "id": "e3bcd1d4",
   "metadata": {},
   "outputs": [],
   "source": []
  },
  {
   "cell_type": "markdown",
   "id": "213d0940",
   "metadata": {},
   "source": [
    "**1.4** The lines below compute the geodesic path between a randomly picked shape in the dataset and the Fréchet mean, and visualize elements along the path."
   ]
  },
  {
   "cell_type": "code",
   "execution_count": null,
   "id": "126b4fb1",
   "metadata": {},
   "outputs": [],
   "source": []
  },
  {
   "cell_type": "markdown",
   "id": "8da5c56f",
   "metadata": {},
   "source": [
    "### 2. Continuous shape space PCA on the whole dataset"
   ]
  },
  {
   "cell_type": "markdown",
   "id": "398da3cf",
   "metadata": {},
   "source": [
    "**2.1** The lines below perform PCA in the tangent plane around the Fréchet mean using the logarithmic and exponential maps appropriately and displays the explained variance. "
   ]
  },
  {
   "cell_type": "code",
   "execution_count": null,
   "id": "f990ccbf",
   "metadata": {},
   "outputs": [],
   "source": []
  },
  {
   "cell_type": "markdown",
   "id": "346c3ff3",
   "metadata": {},
   "source": [
    "**2.2** The lines below retreive the four first modes of shape variation and visualize them around the mean."
   ]
  },
  {
   "cell_type": "code",
   "execution_count": null,
   "id": "5e9649d1",
   "metadata": {},
   "outputs": [],
   "source": []
  },
  {
   "cell_type": "markdown",
   "id": "f6505f6b",
   "metadata": {},
   "source": [
    "### 3. Continuous shape space PCA on classes"
   ]
  },
  {
   "cell_type": "markdown",
   "id": "a9018120",
   "metadata": {},
   "source": [
    "We actually know that the shape distribution is bimodal, because there are dead and alive worms. To have a clearer picture of shape variability, we can thus carry out shape PCA on each class individually."
   ]
  },
  {
   "cell_type": "markdown",
   "id": "70f27c5a",
   "metadata": {},
   "source": [
    "**3.1** Run the lines below to split the dataset into a collection of alive and a collection of dead C. elegans samples.  "
   ]
  },
  {
   "cell_type": "code",
   "execution_count": null,
   "id": "aeb5f256",
   "metadata": {},
   "outputs": [],
   "source": [
    "label_data='data/C. elegans/labels.npy'\n",
    "labels=np.load(label_data)"
   ]
  },
  {
   "cell_type": "code",
   "execution_count": null,
   "id": "0dfd2528",
   "metadata": {},
   "outputs": [],
   "source": []
  },
  {
   "cell_type": "markdown",
   "id": "cddf419f",
   "metadata": {},
   "source": [
    "**3.2** Run the lines below to visualize a set of a few randomly selected models from each collection."
   ]
  },
  {
   "cell_type": "code",
   "execution_count": null,
   "id": "1ea24a64",
   "metadata": {},
   "outputs": [],
   "source": [
    "# Dead C. elegans\n",
    "number=10\n",
    "inds=np.random.choice(len(complex_preshapes_dead)-1, size=number, replace=False)\n",
    "\n",
    "fig, ax = plt.subplots(1,number, figsize=(number,1))\n",
    "for i in range(number):\n",
    "    sample=complex_preshapes_dead[inds[i]]\n",
    "    ax[i].scatter(sample.real,sample.imag,s=1)\n",
    "    ax[i].set_title(inds[i])\n",
    "    ax[i].axis('off')"
   ]
  },
  {
   "cell_type": "code",
   "execution_count": null,
   "id": "e7e4b366",
   "metadata": {},
   "outputs": [],
   "source": [
    "# Live C. elegans\n",
    "number=10\n",
    "inds=np.random.choice(len(complex_preshapes_live)-1, size=number, replace=False)\n",
    "\n",
    "fig, ax = plt.subplots(1,number, figsize=(number,1))\n",
    "for i in range(number):\n",
    "    sample=complex_preshapes_live[inds[i]]\n",
    "    ax[i].scatter(sample.real,sample.imag,s=1)\n",
    "    ax[i].axis('off')"
   ]
  },
  {
   "cell_type": "markdown",
   "id": "288c57ed",
   "metadata": {},
   "source": [
    "**3.3** Compute and visualize the Fréchet mean for each individual class, adapting the code from 1.3. How do they differ from what you got in 1.3?"
   ]
  },
  {
   "cell_type": "code",
   "execution_count": null,
   "id": "4166b112",
   "metadata": {},
   "outputs": [],
   "source": []
  },
  {
   "cell_type": "markdown",
   "id": "8c30096f",
   "metadata": {},
   "source": [
    "**3.4** For each class, perform continuous shape PCA by adapting the code from 2.1."
   ]
  },
  {
   "cell_type": "code",
   "execution_count": null,
   "id": "9c1d6a8f",
   "metadata": {},
   "outputs": [],
   "source": []
  },
  {
   "cell_type": "markdown",
   "id": "704a1c78",
   "metadata": {},
   "source": [
    "**3.5** For each class, retreive the two first modes of shape variation and visualize them around the mean by adapting the code from 2.2. How do they differ from what you got in 2.2? And from what you got in 2A - 4.5?"
   ]
  },
  {
   "cell_type": "code",
   "execution_count": null,
   "id": "7626ef8e",
   "metadata": {},
   "outputs": [],
   "source": []
  },
  {
   "cell_type": "markdown",
   "id": "59c1ff79",
   "metadata": {},
   "source": [
    "### 4. Statistical shape modelling with spline curves"
   ]
  },
  {
   "cell_type": "markdown",
   "id": "6bcd0fad",
   "metadata": {},
   "source": [
    "**4.1** The following lines generate synthetic live C. elegans shapes relying on a simple statistical model (multivariate Gaussian) built from the covariance matrix of the dataset. How does it compare to the model considered in 2A - 5.1?"
   ]
  },
  {
   "cell_type": "code",
   "execution_count": null,
   "id": "ba21580e",
   "metadata": {},
   "outputs": [],
   "source": []
  }
 ],
 "metadata": {
  "kernelspec": {
   "display_name": "Python 3",
   "language": "python",
   "name": "python3"
  },
  "language_info": {
   "codemirror_mode": {
    "name": "ipython",
    "version": 3
   },
   "file_extension": ".py",
   "mimetype": "text/x-python",
   "name": "python",
   "nbconvert_exporter": "python",
   "pygments_lexer": "ipython3",
   "version": "3.7.3"
  }
 },
 "nbformat": 4,
 "nbformat_minor": 5
}
