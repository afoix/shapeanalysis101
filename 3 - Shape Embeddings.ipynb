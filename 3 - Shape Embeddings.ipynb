{
 "cells": [
  {
   "cell_type": "markdown",
   "id": "0526be11",
   "metadata": {},
   "source": [
    "## Part 3: Learned shape embeddings"
   ]
  },
  {
   "cell_type": "markdown",
   "id": "a821c3ad",
   "metadata": {},
   "source": [
    "In this notebook, we will learn how train a neural network to classify cells based on their shapes. In order to do that, we will transform cells into point clouds and use [supervised contrastive learning](https://arxiv.org/pdf/2004.11362.pdf) to create an embedding space for our data."
   ]
  },
  {
   "cell_type": "code",
   "execution_count": 1,
   "id": "ef013506",
   "metadata": {},
   "outputs": [],
   "source": [
    "import os\n",
    "import h5py\n",
    "import numpy as np\n",
    "import random\n",
    "import tifffile\n",
    "import matplotlib.pyplot as plt\n",
    "import torch\n",
    "import torch.nn as nn\n",
    "import torch.nn.functional as F\n",
    "import torch.optim as optim\n",
    "from torch.utils.data import Dataset, DataLoader\n",
    "import warnings\n",
    "warnings.filterwarnings('ignore') \n",
    "\n",
    "from shape_embeddings.data_handling import get_MEF_loader, get_MEF_loaders\n",
    "from shape_embeddings.model import SpatialTransformer3d, SpatialTransformerkd\n",
    "from shape_embeddings.utils import Center, RandomCoordsFlip, RandomNoise, show_image, run_logistic_regression, visualize_data"
   ]
  },
  {
   "cell_type": "markdown",
   "id": "0b5df19a",
   "metadata": {},
   "source": [
    "### 0. Data loading and preprocessing"
   ]
  },
  {
   "cell_type": "markdown",
   "id": "e9729b0b",
   "metadata": {},
   "source": [
    "For this exercise we will be using a dataset of wild-type (LMNA++) and lamin-deficient (LMNA--) mouse embryonic fibroblasts. Let's start with visualizing the data."
   ]
  },
  {
   "cell_type": "code",
   "execution_count": 1,
   "id": "4bab501b",
   "metadata": {
    "scrolled": true
   },
   "outputs": [
    {
     "ename": "NameError",
     "evalue": "name 'plt' is not defined",
     "output_type": "error",
     "traceback": [
      "\u001b[0;31m---------------------------------------------------------------------------\u001b[0m",
      "\u001b[0;31mNameError\u001b[0m                                 Traceback (most recent call last)",
      "\u001b[0;32m<ipython-input-1-b57858f506ca>\u001b[0m in \u001b[0;36m<module>\u001b[0;34m\u001b[0m\n\u001b[0;32m----> 1\u001b[0;31m \u001b[0mplt\u001b[0m\u001b[0;34m.\u001b[0m\u001b[0mrcParams\u001b[0m\u001b[0;34m[\u001b[0m\u001b[0;34m'figure.figsize'\u001b[0m\u001b[0;34m]\u001b[0m \u001b[0;34m=\u001b[0m \u001b[0;34m[\u001b[0m\u001b[0;36m15\u001b[0m\u001b[0;34m,\u001b[0m \u001b[0;36m8\u001b[0m\u001b[0;34m]\u001b[0m\u001b[0;34m\u001b[0m\u001b[0;34m\u001b[0m\u001b[0m\n\u001b[0m\u001b[1;32m      2\u001b[0m \u001b[0mvisualize_data\u001b[0m\u001b[0;34m(\u001b[0m\u001b[0;34m)\u001b[0m\u001b[0;34m\u001b[0m\u001b[0;34m\u001b[0m\u001b[0m\n",
      "\u001b[0;31mNameError\u001b[0m: name 'plt' is not defined"
     ]
    }
   ],
   "source": [
    "plt.rcParams['figure.figsize'] = [15, 8]\n",
    "visualize_data()"
   ]
  },
  {
   "cell_type": "markdown",
   "id": "b266e3b2",
   "metadata": {},
   "source": [
    "The wild-type cells contain mixed shape profiles, whereas the lamin deficient cells have mostly a circular profile. In order to train our model, we will represent each cell as a 2D point cloud by sampling along a cells contour. More specifically, we take the segmentation mask of each cell, extract its contour and then sample uniformly a small set of points."
   ]
  },
  {
   "cell_type": "markdown",
   "id": "b9fee896",
   "metadata": {},
   "source": [
    "<p float=\"left\">\n",
    "  <img src=\"images/instances2points.png\" width=\"786\" height=\"786\"/>\n",
    "</p>"
   ]
  },
  {
   "cell_type": "markdown",
   "id": "c43b2e71",
   "metadata": {},
   "source": [
    "**TASK 1:** Write a function that takes the instance segmenation (provided in the path below) and extracts a 2D point cloud for each cell in the image."
   ]
  },
  {
   "cell_type": "code",
   "execution_count": 3,
   "id": "03145b89",
   "metadata": {},
   "outputs": [],
   "source": [
    "# Load instance segmentation\n",
    "path_to_instance_seg = 'data/MEF_LMNA/xy001c1_instances.h5'\n",
    "\n",
    "with h5py.File(path_to_instance_seg, 'r') as h5file:\n",
    "    masks = h5file['exported_data'][:, :, 0]\n",
    "\n",
    "# TODO: write function instances2points(masks: np.ndarray) -> [pointcloud1, ...., pointcloudN]"
   ]
  },
  {
   "cell_type": "code",
   "execution_count": 4,
   "id": "07e3290f",
   "metadata": {},
   "outputs": [
    {
     "data": {
      "image/png": "[encoded data removed]",
      "text/plain": [
       "<Figure size 1080x576 with 1 Axes>"
      ]
     },
     "metadata": {
      "needs_background": "light"
     },
     "output_type": "display_data"
    }
   ],
   "source": [
    "# Load instance segmentation\n",
    "path_to_instance_seg = 'data/MEF_LMNA/xy001c1_instances.h5'\n",
    "\n",
    "with h5py.File(path_to_instance_seg, 'r') as h5file:\n",
    "    masks = h5file['exported_data'][:, :, 0]\n",
    "    \n",
    "# Solution\n",
    "from skimage.measure import find_contours\n",
    "from skimage.segmentation.boundaries import find_boundaries\n",
    "\n",
    "def instances2points(masks):\n",
    "    boundaries = find_boundaries(masks)\n",
    "    contours = find_contours(boundaries)\n",
    "    # Since the segmentation is not perfect, we neglect small artifacts\n",
    "    contours = [c for c in contours if len(c) > 150]\n",
    "    # sample 150 random points along the contour\n",
    "    point_clouds = []\n",
    "    for c in contours:\n",
    "        indices = np.random.choice(len(c), size=150, replace=False)\n",
    "        point_clouds += [c[indices]]\n",
    "    return point_clouds\n",
    "\n",
    "# visualize one point cloud\n",
    "points = instances2points(masks)[8]\n",
    "plt.scatter(points[:, 0], points[:, 1])\n",
    "plt.axis('off')\n",
    "plt.show()"
   ]
  },
  {
   "cell_type": "markdown",
   "id": "e381cc7b",
   "metadata": {},
   "source": [
    "The next step is to implement a dataset - a class from which data can be sampled to train the network. This class usually handels most of the data preprocessing including data augmentation. The abstract dataset object is then given to a sampler, also called data loader, such that samples can be fetched during training and inference. Since we are not focusing on data handling, we already implemented a custom dataset."
   ]
  },
  {
   "cell_type": "code",
   "execution_count": 5,
   "id": "12196a20",
   "metadata": {},
   "outputs": [],
   "source": [
    "class MEFDataset(Dataset):\n",
    "    def __init__(self, dataset, transforms=None):\n",
    "        super().__init__()\n",
    "        self.dataset = dataset\n",
    "        self.base_transform = Center()\n",
    "        self.transforms = transforms\n",
    "\n",
    "    def apply_transforms(self, pts):\n",
    "        for transform in self.transforms:\n",
    "            pts = transform(pts)\n",
    "        return pts\n",
    "\n",
    "    def __getitem__(self, idx):\n",
    "        label, pts = self.dataset[idx]\n",
    "        pts = self.base_transform(pts)\n",
    "        if self.transforms:\n",
    "            pts = self.apply_transforms(pts)\n",
    "        return (label, pts.astype(np.float32))\n",
    "\n",
    "    def __len__(self):\n",
    "        return len(self.dataset)\n",
    "\n",
    "\n",
    "def get_MEF_loaders(path_to_dataset, batch_size=100, transforms=None):\n",
    "    # Load data from storage\n",
    "    mef_data = np.load(path_to_dataset, allow_pickle=True).item()\n",
    "    data = []\n",
    "    for key, pts in mef_data.items():\n",
    "         # we asign label 0 to the wild-type and 1 to the lamin deficient cell\n",
    "        label = 0 if 'wildtype' in key else 1\n",
    "        data += [(label, pts.T)]\n",
    "    random.shuffle(data)\n",
    "    \n",
    "    # Split data into training and validation set\n",
    "    split_index = int(len(data) * 0.75)\n",
    "    train_data = MEFDataset(data[:split_index], transforms)\n",
    "    val_data = MEFDataset(data[split_index:])\n",
    "\n",
    "    train_loader = DataLoader(train_data,\n",
    "                              batch_size=batch_size,\n",
    "                              shuffle=True)\n",
    "    val_loader = DataLoader(val_data, batch_size=batch_size)\n",
    "    return train_loader, val_loader"
   ]
  },
  {
   "cell_type": "markdown",
   "id": "d8ef58df",
   "metadata": {},
   "source": [
    "### 1. The model: PointNet"
   ]
  },
  {
   "cell_type": "markdown",
   "id": "355b33b8",
   "metadata": {},
   "source": [
    "TODO: Intuitive explanation of PointNet"
   ]
  },
  {
   "cell_type": "code",
   "execution_count": 6,
   "id": "3dec6097",
   "metadata": {},
   "outputs": [],
   "source": [
    "class PointNetFeat(nn.Module):\n",
    "    def __init__(self, global_feat=True, feature_transform=False):\n",
    "        super().__init__()\n",
    "        self.transformer = SpatialTransformer3d()\n",
    "        if feature_transform:\n",
    "            self.feat_transformer = SpatialTransformerkd()\n",
    "\n",
    "        self.conv1 = nn.Conv1d(2, 64, 1)\n",
    "        self.conv2 = nn.Conv1d(64, 128, 1)\n",
    "        self.conv3 = nn.Conv1d(128, 1024, 1)\n",
    "\n",
    "        self.bn1 = nn.BatchNorm1d(64)\n",
    "        self.bn2 = nn.BatchNorm1d(128)\n",
    "        self.bn3 = nn.BatchNorm1d(1024)\n",
    "\n",
    "        self.global_feat = global_feat\n",
    "        self.feat_transform = feature_transform\n",
    "\n",
    "    def forward(self, x):\n",
    "        n_pts = x.size()[2]\n",
    "        trans = self.transformer(x)\n",
    "        x = x.transpose(2, 1)\n",
    "        x = torch.bmm(x, trans)\n",
    "        x = x.transpose(2, 1)\n",
    "        x = F.relu(self.bn1(self.conv1(x)))\n",
    "\n",
    "        if self.feat_transform:\n",
    "            trans_feat = self.feat_transformer(x)\n",
    "            x = x.transpose(2, 1)\n",
    "            x = torch.bmm(x, trans_feat)\n",
    "            x = x.transpose(2, 1)\n",
    "        else:\n",
    "            trans_feat = None\n",
    "\n",
    "        pointfeat = x\n",
    "        x = F.relu(self.bn2(self.conv2(x)))\n",
    "        x = self.bn3(self.conv3(x))\n",
    "        x = torch.max(x, 2, keepdim=True)[0]\n",
    "        x = x.view(-1, 1024)\n",
    "        if self.global_feat:\n",
    "            return x, trans, trans_feat\n",
    "        else:\n",
    "            x = x.view(-1, 1024, 1).repeat(1, 1, n_pts)\n",
    "            return torch.cat([x, pointfeat], 1), trans, trans_feat\n",
    "\n",
    "\n",
    "class PointNet(nn.Module):\n",
    "    def __init__(self,\n",
    "                 head='mlp',\n",
    "                 embed_dim=2048,\n",
    "                 feat_dim=128,\n",
    "                 feature_transform=False):\n",
    "        super().__init__()\n",
    "        self.feature_transform = feature_transform\n",
    "        self.feat = PointNetFeat(global_feat=True,\n",
    "                                 feature_transform=feature_transform)\n",
    "\n",
    "        self.fc1 = nn.Linear(1024, 1024)\n",
    "        self.fc2 = nn.Linear(1024, embed_dim)\n",
    "\n",
    "        self.bn1 = nn.BatchNorm1d(1024)\n",
    "        self.relu = nn.ReLU()\n",
    "\n",
    "        if head == 'linear':\n",
    "            self.head = nn.Linear(embed_dim, feat_dim)\n",
    "        elif head == 'mlp':\n",
    "            self.head = nn.Sequential(\n",
    "                nn.Linear(embed_dim, embed_dim),\n",
    "                nn.ReLU(inplace=True),\n",
    "                nn.Linear(embed_dim, feat_dim)\n",
    "            )\n",
    "\n",
    "    def forward(self, x):\n",
    "        x, trans, trans_feat = self.feat(x)\n",
    "        x = F.relu(self.bn1(self.fc1(x)))\n",
    "        x = self.fc2(x)\n",
    "\n",
    "        out = F.normalize(self.head(x), dim=1)\n",
    "        return out, x"
   ]
  },
  {
   "cell_type": "markdown",
   "id": "e75adf2e",
   "metadata": {},
   "source": [
    "### 3. Loss: supervised constrastive"
   ]
  },
  {
   "cell_type": "markdown",
   "id": "1cb467f8",
   "metadata": {},
   "source": [
    "The  idea behind contrastive learning is to pull together an anchor (the sample that is processed) and a 'positive' sample (same class) in embedding space, and push apart the anchor from 'negative' samples (different class)."
   ]
  },
  {
   "cell_type": "code",
   "execution_count": 7,
   "id": "487abc4a",
   "metadata": {},
   "outputs": [],
   "source": [
    "# Adapted from https://github.com/HobbitLong/SupContrast/blob/master/losses.py\n",
    "# Supervised Contrastive Learning: https://arxiv.org/pdf/2004.11362.pdf\n",
    "class SupConLoss(nn.Module):\n",
    "    def __init__(self, temperature=0.07, contrast_mode='all', base_temperature=0.07):\n",
    "        super(SupConLoss, self).__init__()\n",
    "        self.temperature = temperature\n",
    "        self.contrast_mode = contrast_mode\n",
    "        self.base_temperature = base_temperature\n",
    "\n",
    "    def forward(self, features, labels=None):\n",
    "        batch_size = features.shape[0]\n",
    "        labels = labels.contiguous().view(-1, 1)\n",
    "        mask = torch.eq(labels, labels.T) \\\n",
    "                    .float() \\\n",
    "                    .to(torch.device('cuda' if features.is_cuda else 'cpu'))\n",
    "\n",
    "\n",
    "        contrast_count = features.shape[1]\n",
    "        contrast_feature = torch.cat(torch.unbind(features, dim=1), dim=0)\n",
    "        if self.contrast_mode == 'one':\n",
    "            anchor_feature = features[:, 0]\n",
    "            anchor_count = 1\n",
    "        elif self.contrast_mode == 'all':\n",
    "            anchor_feature = contrast_feature\n",
    "            anchor_count = contrast_count\n",
    "        else:\n",
    "            raise ValueError('Unknown mode: {}'.format(self.contrast_mode))\n",
    "\n",
    "        # compute logits\n",
    "        anchor_dot_contrast = torch.div(\n",
    "            torch.matmul(anchor_feature, contrast_feature.T),\n",
    "            self.temperature)\n",
    "        # for numerical stability\n",
    "        logits_max, _ = torch.max(anchor_dot_contrast, dim=1, keepdim=True)\n",
    "        logits = anchor_dot_contrast - logits_max.detach()\n",
    "\n",
    "        # tile mask\n",
    "        mask = mask.repeat(anchor_count, contrast_count)\n",
    "        # mask-out self-contrast cases\n",
    "        logits_mask = torch.scatter(\n",
    "            torch.ones_like(mask),\n",
    "            1,\n",
    "            torch.arange(batch_size * anchor_count).view(-1, 1).to(device),\n",
    "            0\n",
    "        )\n",
    "        mask = mask * logits_mask\n",
    "\n",
    "        # compute log_prob\n",
    "        exp_logits = torch.exp(logits) * logits_mask\n",
    "        log_prob = logits - torch.log(exp_logits.sum(1, keepdim=True))\n",
    "\n",
    "        # compute mean of log-likelihood over positive\n",
    "        mean_log_prob_pos = (mask * log_prob).sum(1) / mask.sum(1)\n",
    "\n",
    "        # loss\n",
    "        loss = - (self.temperature / self.base_temperature) * mean_log_prob_pos\n",
    "        loss = loss.view(anchor_count, batch_size).mean()\n",
    "\n",
    "        return loss"
   ]
  },
  {
   "cell_type": "markdown",
   "id": "8fea9735",
   "metadata": {},
   "source": [
    "### 4. Training"
   ]
  },
  {
   "cell_type": "code",
   "execution_count": 8,
   "id": "b46a0e45",
   "metadata": {},
   "outputs": [],
   "source": [
    "def train_loop(model, criterion, optimizer, train_loader):\n",
    "    device = torch.device('cuda' if torch.cuda.is_available() else 'cpu')\n",
    "    run_loss = 0.0\n",
    "    for i, data in enumerate(train_loader):\n",
    "        labels, points = data\n",
    "        points = points.to(device)\n",
    "        labels = labels.to(device)\n",
    "\n",
    "        # zero parameter gradients\n",
    "        optimizer.zero_grad()\n",
    "\n",
    "        # forward\n",
    "        outputs, embed = model(points)\n",
    "\n",
    "        # loss + backward\n",
    "        loss = criterion(outputs.unsqueeze(1), labels)\n",
    "        loss.backward()\n",
    "\n",
    "        # optimizer update\n",
    "        optimizer.step()\n",
    "\n",
    "        # print statistics\n",
    "        run_loss += loss.item()\n",
    "\n",
    "    avg_loss = run_loss / len(train_loader)\n",
    "    return avg_loss"
   ]
  },
  {
   "cell_type": "code",
   "execution_count": 9,
   "id": "711b1215",
   "metadata": {},
   "outputs": [],
   "source": [
    "def validation_loop(model, criterion, val_loader):\n",
    "    device = torch.device('cuda' if torch.cuda.is_available() else 'cpu')\n",
    "    model.eval()\n",
    "    run_loss = 0.0\n",
    "    embeddings = []\n",
    "    labels = []\n",
    "    for i, data in enumerate(val_loader):\n",
    "        label, points = data\n",
    "        points = points.to(device)\n",
    "        label = label.to(device)\n",
    "        out, embed = model(points)\n",
    "        embeddings += [embed.detach().cpu().numpy()]\n",
    "        labels += [label.cpu().numpy()]\n",
    "        loss = criterion(out.unsqueeze(1), label)\n",
    "        run_loss += loss.item()\n",
    "\n",
    "    # Compute average validation loss\n",
    "    avg_loss = run_loss / len(val_loader)\n",
    "    \n",
    "    # Usa a logistic regression model to evaluate the accuracy\n",
    "    accuracy = run_logistic_regression(\n",
    "        np.concatenate(embeddings, axis=0), np.concatenate(labels)\n",
    "    )\n",
    "\n",
    "    return accuracy, avg_loss"
   ]
  },
  {
   "cell_type": "markdown",
   "id": "20f7a6ea",
   "metadata": {},
   "source": [
    "We will use the VMs GPU to train the model more efficiently. Make sure that the correct device is selects!"
   ]
  },
  {
   "cell_type": "code",
   "execution_count": 10,
   "id": "3148e4da",
   "metadata": {},
   "outputs": [
    {
     "name": "stdout",
     "output_type": "stream",
     "text": [
      "Selected device: cpu\n"
     ]
    }
   ],
   "source": [
    "device = torch.device('cuda' if torch.cuda.is_available() else 'cpu')\n",
    "print(f'Selected device: {device}')"
   ]
  },
  {
   "cell_type": "markdown",
   "id": "d2dee2f4",
   "metadata": {},
   "source": [
    "Next we initiate the training. In order to do that we ...."
   ]
  },
  {
   "cell_type": "markdown",
   "id": "8887d291",
   "metadata": {},
   "source": [
    "**TASK 2:** Find suitable hyperparameters for training the network"
   ]
  },
  {
   "cell_type": "code",
   "execution_count": 11,
   "id": "512fd78e",
   "metadata": {},
   "outputs": [],
   "source": [
    "# Set hyperparameters\n",
    "\n",
    "# Sampler and optimizer parameters\n",
    "batch_size = 200  # how many samples are given to the network at once\n",
    "lr = 0.0001  # learning rate\n",
    "weight_decay = 0.0001  # weight for loss regularization\n",
    "\n",
    "# Neural network parameters\n",
    "embedding_dim = 2048  # dimension of the embedding\n",
    "projection_head = 'mlp' # options ('mlp', 'linear'); Neural network applied to embedding features to compute output features\n",
    "output_dim = 128  # dimension of the network output\n",
    "feature_transform = False  # if true, spatial transformer is applied to features\n",
    "\n",
    "# Loss parameters\n",
    "temp = 0.07\n",
    "contrast_mode = 'all'  # options ('all', 'one')\n",
    "base_temp = 0.07\n",
    "\n",
    "epochs = 1  # how many epochs to run the training"
   ]
  },
  {
   "cell_type": "code",
   "execution_count": 12,
   "id": "c46dd38b",
   "metadata": {},
   "outputs": [],
   "source": [
    "path_to_data = 'data/MEF_LMNA/mef_data.npy'\n",
    "\n",
    "# Initialize dataloaders\n",
    "train_loader, val_loader = get_MEF_loaders(path_to_data, batch_size=batch_size)\n",
    "                \n",
    "# Initialize neural network\n",
    "model = PointNet(head=projection_head,\n",
    "                embed_dim=embedding_dim,\n",
    "                feat_dim=output_dim,\n",
    "                feature_transform=feature_transform).to(device)\n",
    "\n",
    "# Initialize criterion\n",
    "criterion = SupConLoss(temperature=temp,\n",
    "                       contrast_mode=contrast_mode,\n",
    "                       base_temperature=base_temp)\n",
    "\n",
    "# Initialize optimizer\n",
    "optimizer = optim.Adam(model.parameters(),\n",
    "                       lr=lr,\n",
    "                       weight_decay=weight_decay)"
   ]
  },
  {
   "cell_type": "code",
   "execution_count": 13,
   "id": "8f162136",
   "metadata": {},
   "outputs": [
    {
     "name": "stdout",
     "output_type": "stream",
     "text": [
      "Baseline accuracy:  0.839\n",
      "[epoch 0] train loss:  5.281\n",
      "[epoch 0] val loss / accuracy:  5.246 / 0.754\n",
      "Best model accuracy:  0.754\n"
     ]
    },
    {
     "data": {
      "text/plain": [
       "<All keys matched successfully>"
      ]
     },
     "execution_count": 13,
     "metadata": {},
     "output_type": "execute_result"
    }
   ],
   "source": [
    "# Baseline\n",
    "accuracy, loss = validation_loop(model, criterion, val_loader)\n",
    "print('Baseline accuracy:  %.3f' % (accuracy))\n",
    "\n",
    "# Run training\n",
    "best_accuracy = 0\n",
    "for epoch in range(epochs):\n",
    "    loss = train_loop(model, criterion, optimizer, train_loader)\n",
    "    print('[epoch {}] train loss:  {:.3f}'.format(epoch, loss))\n",
    "    \n",
    "    accuracy, val_loss = validation_loop(model, criterion, val_loader)\n",
    "    print('[epoch {}] val loss / accuracy:  {:.3f} / {:.3f}'.format(epoch, val_loss, accuracy))\n",
    "    \n",
    "    if best_accuracy < accuracy:\n",
    "        best_accuracy = accuracy\n",
    "        best_params = model.state_dict()\n",
    "\n",
    "print('Best model accuracy:  {:.3f}'.format(best_accuracy))\n",
    "model.load_state_dict(best_params)"
   ]
  },
  {
   "cell_type": "markdown",
   "id": "f025b606",
   "metadata": {},
   "source": [
    "### 5. Visualize embeddings"
   ]
  },
  {
   "cell_type": "markdown",
   "id": "cda3d58b",
   "metadata": {},
   "source": [
    "In the last section of this exercise, we will visualize the learned representations and try to identify wild-type/lamin deficient cells using KMeans clustering. In order to do that we first process the whole dataset with the trained model and map each cell to its corresponding embedding.\n",
    "\n",
    "**Task 3:** Process the whole dataset using the trained model from the previous section. The output should a tensor of shape [number of cells in the dataset, embedding dimension] that contains the embeddings and a tensor of shape [number of cells in the dataset] that contains the corresponding labels."
   ]
  },
  {
   "cell_type": "code",
   "execution_count": 14,
   "id": "602ceb40",
   "metadata": {},
   "outputs": [
    {
     "data": {
      "text/plain": [
       "PointNet(\n",
       "  (feat): PointNetFeat(\n",
       "    (transformer): SpatialTransformer3d(\n",
       "      (conv1): Conv1d(2, 64, kernel_size=(1,), stride=(1,))\n",
       "      (conv2): Conv1d(64, 128, kernel_size=(1,), stride=(1,))\n",
       "      (conv3): Conv1d(128, 1024, kernel_size=(1,), stride=(1,))\n",
       "      (fc1): Linear(in_features=1024, out_features=512, bias=True)\n",
       "      (fc2): Linear(in_features=512, out_features=256, bias=True)\n",
       "      (fc3): Linear(in_features=256, out_features=4, bias=True)\n",
       "      (relu): ReLU()\n",
       "      (bn1): BatchNorm1d(64, eps=1e-05, momentum=0.1, affine=True, track_running_stats=True)\n",
       "      (bn2): BatchNorm1d(128, eps=1e-05, momentum=0.1, affine=True, track_running_stats=True)\n",
       "      (bn3): BatchNorm1d(1024, eps=1e-05, momentum=0.1, affine=True, track_running_stats=True)\n",
       "      (bn4): BatchNorm1d(512, eps=1e-05, momentum=0.1, affine=True, track_running_stats=True)\n",
       "      (bn5): BatchNorm1d(256, eps=1e-05, momentum=0.1, affine=True, track_running_stats=True)\n",
       "    )\n",
       "    (conv1): Conv1d(2, 64, kernel_size=(1,), stride=(1,))\n",
       "    (conv2): Conv1d(64, 128, kernel_size=(1,), stride=(1,))\n",
       "    (conv3): Conv1d(128, 1024, kernel_size=(1,), stride=(1,))\n",
       "    (bn1): BatchNorm1d(64, eps=1e-05, momentum=0.1, affine=True, track_running_stats=True)\n",
       "    (bn2): BatchNorm1d(128, eps=1e-05, momentum=0.1, affine=True, track_running_stats=True)\n",
       "    (bn3): BatchNorm1d(1024, eps=1e-05, momentum=0.1, affine=True, track_running_stats=True)\n",
       "  )\n",
       "  (fc1): Linear(in_features=1024, out_features=1024, bias=True)\n",
       "  (fc2): Linear(in_features=1024, out_features=2048, bias=True)\n",
       "  (bn1): BatchNorm1d(1024, eps=1e-05, momentum=0.1, affine=True, track_running_stats=True)\n",
       "  (relu): ReLU()\n",
       "  (head): Sequential(\n",
       "    (0): Linear(in_features=2048, out_features=2048, bias=True)\n",
       "    (1): ReLU(inplace=True)\n",
       "    (2): Linear(in_features=2048, out_features=128, bias=True)\n",
       "  )\n",
       ")"
      ]
     },
     "execution_count": 14,
     "metadata": {},
     "output_type": "execute_result"
    }
   ],
   "source": [
    "loader = get_MEF_loader('data/MEF_LMNA/mef_data.npy')\n",
    "model.eval()\n",
    "\n",
    "# TODO"
   ]
  },
  {
   "cell_type": "code",
   "execution_count": 15,
   "id": "62249c08",
   "metadata": {},
   "outputs": [],
   "source": [
    "loader = get_MEF_loader('data/MEF_LMNA/mef_data.npy')\n",
    "model.eval()\n",
    "\n",
    "# Solution\n",
    "embeddings = []\n",
    "labels = []\n",
    "for data in loader:\n",
    "    label, points = data\n",
    "    points = points.to(device)\n",
    "    out, embed = model(points)\n",
    "    embeddings += [embed.detach().cpu().numpy()]\n",
    "    labels += [label]\n",
    "    \n",
    "embeddings = np.concatenate(embeddings, axis=0)\n",
    "labels = np.concatenate(labels)"
   ]
  },
  {
   "cell_type": "markdown",
   "id": "02bc0f68",
   "metadata": {},
   "source": [
    "**Task 4:** Apply principal component analysis (PCA) to the embeddings and visualize it by projecting onto the first two principal components. Use labels to assign colors to the points."
   ]
  },
  {
   "cell_type": "code",
   "execution_count": 16,
   "id": "020e70a4",
   "metadata": {},
   "outputs": [],
   "source": [
    "from sklearn.decomposition import PCA\n",
    "\n",
    "# TODO"
   ]
  },
  {
   "cell_type": "code",
   "execution_count": 17,
   "id": "dcb0672d",
   "metadata": {},
   "outputs": [
    {
     "data": {
      "image/png": "[encoded data removed]",
      "text/plain": [
       "<Figure size 1080x576 with 1 Axes>"
      ]
     },
     "metadata": {
      "needs_background": "light"
     },
     "output_type": "display_data"
    }
   ],
   "source": [
    "from sklearn.decomposition import PCA\n",
    "\n",
    "# Solution\n",
    "pca = PCA(n_components=2)\n",
    "X_r = pca.fit(embeddings).transform(embeddings)\n",
    "\n",
    "colors = ['#4EACC5', '#FF9C34']\n",
    "plt.figure()\n",
    "plt.title('PCA of mouse embryonic fibroblasts')\n",
    "for color, i, target_name in zip(colors, [0, 1], ['wild-type', 'lmna']):\n",
    "    plt.scatter(X_r[labels == i, 0], X_r[labels == i, 1],\n",
    "                color=color, label=target_name, edgecolor='k')"
   ]
  },
  {
   "cell_type": "markdown",
   "id": "1c61a88d",
   "metadata": {},
   "source": [
    "**TASK 5:** Apply k-means clustering to the embeddings and compare with the correct labels how it clusters."
   ]
  },
  {
   "cell_type": "code",
   "execution_count": 18,
   "id": "fed4c97f",
   "metadata": {},
   "outputs": [],
   "source": [
    "from sklearn.cluster import KMeans\n",
    "\n",
    "# TODO"
   ]
  },
  {
   "cell_type": "code",
   "execution_count": 19,
   "id": "886439b9",
   "metadata": {},
   "outputs": [
    {
     "data": {
      "image/png": "[encoded data removed]",
      "text/plain": [
       "<Figure size 1080x576 with 2 Axes>"
      ]
     },
     "metadata": {
      "needs_background": "light"
     },
     "output_type": "display_data"
    }
   ],
   "source": [
    "from sklearn.cluster import KMeans\n",
    "from sklearn.metrics.pairwise import pairwise_distances_argmin\n",
    "\n",
    "kmeans = KMeans(n_clusters=2)\n",
    "kmeans.fit(embeddings)\n",
    "kmeans_labels = pairwise_distances_argmin(embeddings, kmeans.cluster_centers_)\n",
    "\n",
    "fig = plt.figure()\n",
    "ax = fig.add_subplot(1, 2, 1)\n",
    "ax.set_title('kmeans clustering')\n",
    "for k, col in zip(range(2), colors):\n",
    "    cluster_center = kmeans.cluster_centers_[k]\n",
    "    plt.plot(embeddings[kmeans_labels == k, 0], embeddings[kmeans_labels == k, 1],\n",
    "             'o' , markerfacecolor=col, marker='.', markersize=10, markeredgecolor='none', alpha=0.9)\n",
    "    plt.plot(cluster_center[0], cluster_center[1],\n",
    "             'o', markerfacecolor=col, markeredgecolor='k', markersize=10)\n",
    "ax = fig.add_subplot(1, 2, 2)\n",
    "ax.set_title('ground truth')\n",
    "for k, col in zip(range(2), colors):\n",
    "    cluster_center = kmeans.cluster_centers_[k]\n",
    "    plt.plot(embeddings[labels == k, 0], embeddings[labels == k, 1],\n",
    "             'o' , markerfacecolor=col, marker='.', markersize=10, markeredgecolor='none', alpha=0.9)\n",
    "plt.show()"
   ]
  }
 ],
 "metadata": {
  "kernelspec": {
   "display_name": "Python 3",
   "language": "python",
   "name": "python3"
  },
  "language_info": {
   "codemirror_mode": {
    "name": "ipython",
    "version": 3
   },
   "file_extension": ".py",
   "mimetype": "text/x-python",
   "name": "python",
   "nbconvert_exporter": "python",
   "pygments_lexer": "ipython3",
   "version": "3.7.3"
  }
 },
 "nbformat": 4,
 "nbformat_minor": 5
}
