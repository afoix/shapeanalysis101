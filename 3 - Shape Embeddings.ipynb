{
 "cells": [
  {
   "cell_type": "markdown",
   "id": "4a500c2b",
   "metadata": {},
   "source": [
    "## Part 3: Learned shape embeddings"
   ]
  },
  {
   "cell_type": "markdown",
   "id": "0135a223",
   "metadata": {},
   "source": [
    "In this notebook, we will learn **...TODO...**."
   ]
  },
  {
   "cell_type": "code",
   "execution_count": null,
   "id": "c413262a",
   "metadata": {},
   "outputs": [],
   "source": [
    "import os\n",
    "import numpy as np\n",
    "import matplotlib.pyplot as plt"
   ]
  },
  {
   "cell_type": "markdown",
   "id": "454ed571",
   "metadata": {},
   "source": [
    "### 0. Data loading"
   ]
  },
  {
   "cell_type": "markdown",
   "id": "96c7f1cb",
   "metadata": {},
   "source": [
    "**0.1** Run the lines below to load the object models dataset."
   ]
  },
  {
   "cell_type": "code",
   "execution_count": null,
   "id": "cd9b42a6",
   "metadata": {},
   "outputs": [],
   "source": [
    "# BBBC020\n",
    "#directory = 'data/BBBC020/masks_cells'\n",
    "directory = 'data/BBBC020/masks_nuclei'\n",
    "point_models=np.load(os.path.join(directory,'point_models.npy'))"
   ]
  }
 ],
 "metadata": {
  "kernelspec": {
   "display_name": "Python 3",
   "language": "python",
   "name": "python3"
  },
  "language_info": {
   "codemirror_mode": {
    "name": "ipython",
    "version": 3
   },
   "file_extension": ".py",
   "mimetype": "text/x-python",
   "name": "python",
   "nbconvert_exporter": "python",
   "pygments_lexer": "ipython3",
   "version": "3.7.3"
  }
 },
 "nbformat": 4,
 "nbformat_minor": 5
}
