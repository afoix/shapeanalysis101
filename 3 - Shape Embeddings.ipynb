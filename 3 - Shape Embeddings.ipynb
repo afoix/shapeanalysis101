{
 "cells": [
  {
   "cell_type": "markdown",
   "metadata": {},
   "source": [
    "## Part 3: Shape classification with neural networks"
   ]
  },
  {
   "cell_type": "markdown",
   "metadata": {},
   "source": [
    "In this notebook, we will learn how train a neural network to classify objects in bioimage data based on shape."
   ]
  },
  {
   "cell_type": "code",
   "execution_count": 8,
   "metadata": {},
   "outputs": [],
   "source": [
    "import os\n",
    "import numpy as np\n",
    "\n",
    "from shape_embeddings.data_utils import load_data\n",
    "from shape_embeddings.criterion import DiscriminiativeLoss"
   ]
  },
  {
   "cell_type": "markdown",
   "metadata": {},
   "source": [
    "### 0. Data loading and preprocessing"
   ]
  },
  {
   "cell_type": "markdown",
   "metadata": {},
   "source": [
    "**0.1** For this exercise we will be using shapes of C.elegans (BBBC010), macropharges cells & nuclei (BBBC020). First we'll extract the object shapes from the two datasets."
   ]
  },
  {
   "cell_type": "code",
   "execution_count": null,
   "metadata": {},
   "outputs": [],
   "source": [
    "# Specify paths to directories\n",
    "celegans_masks_dir = 'data/BBBC010/masks'\n",
    "cells_masks_dir = 'data/BBBC020/BBC020_v1_outlines_cells'\n",
    "nuclei_masks_dir = 'data/BBBC020/BBC020_v1_outlines_nuclei'\n",
    "\n",
    "data = load_data()\n"
   ]
  }
 ],
 "metadata": {
  "kernelspec": {
   "display_name": "Python 3",
   "language": "python",
   "name": "python3"
  },
  "language_info": {
   "codemirror_mode": {
    "name": "ipython",
    "version": 3
   },
   "file_extension": ".py",
   "mimetype": "text/x-python",
   "name": "python",
   "nbconvert_exporter": "python",
   "pygments_lexer": "ipython3",
   "version": "3.7.9"
  }
 },
 "nbformat": 4,
 "nbformat_minor": 5
}
